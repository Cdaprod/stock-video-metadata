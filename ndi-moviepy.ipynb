{
 "cells": [
  {
   "metadata": {
    "trusted": false
   },
   "cell_type": "code",
   "source": "# moviepy editor example\nfrom moviepy.editor import \n    VideoFileClip\n    concatenate_videoclips\n    vfx # video fx\n    afx # audio fx\n    CompositeAudioClip # \n\nclip1 = VideoFileClip(\"\").subclip(0, 10)\nclip2 = VideoFileClip(\"\").subclip(10, 20)\nclip3 = VideoFileClip(\"\").subclip(20, 30)\nclip4 = VideoFileClip(\"\").subclip(20, 30).fx(vfx.colorx, 1.5)\\\n    .fx(vfx.lum_contrast, 0, 50, 128)\n\ncombined = concatenate_videoclips([clip1, clip2, clip3, ,clip4])\ncombined.write_videogile(\"sequence-clips.mp4\")\n\nVideoFileClip().fx(vfx.fadein, 1).fx(vfx.fadeout, 1)\n",
   "execution_count": 1,
   "outputs": [
    {
     "output_type": "error",
     "ename": "SyntaxError",
     "evalue": "invalid syntax (<ipython-input-1-0585f82afcb7>, line 1)",
     "traceback": [
      "\u001b[0;36m  File \u001b[0;32m\"<ipython-input-1-0585f82afcb7>\"\u001b[0;36m, line \u001b[0;32m1\u001b[0m\n\u001b[0;31m    from moviepy.editor import\u001b[0m\n\u001b[0m                               ^\u001b[0m\n\u001b[0;31mSyntaxError\u001b[0m\u001b[0;31m:\u001b[0m invalid syntax\n"
     ]
    }
   ]
  },
  {
   "metadata": {},
   "cell_type": "markdown",
   "source": "# NDI-PY\n\n# NDI Stream Capture in Jupyter Notebook\n\nAn improved version of your NDI streaming notebook with better error handling, cleaner threading, and more robust frame updates."
  },
  {
   "metadata": {
    "trusted": true
   },
   "cell_type": "code",
   "source": "## 📦 Cell 1: Install Dependencies\n\n# Install required packages\n!pip install ndi-python opencv-python ipywidgets\n# Note: Ensure NDI SDK/Runtime is installed on your system",
   "execution_count": null,
   "outputs": []
  },
  {
   "metadata": {
    "trusted": true
   },
   "cell_type": "code",
   "source": "## 🧠 Cell 2: Imports & Setup\n\nimport threading\nimport time\nimport cv2\nimport numpy as np\nimport ndi\nimport ipywidgets as widgets\nfrom IPython.display import display, clear_output\nimport queue\nfrom contextlib import contextmanager\n\n# Global state management\nclass NDIStreamState:\n    def __init__(self):\n        self.frame_queue = queue.Queue(maxsize=5)  # Prevent memory buildup\n        self.stop_event = threading.Event()\n        self.receiver_thread = None\n        self.display_thread = None\n        \n    def stop_all(self):\n        self.stop_event.set()\n        if self.receiver_thread and self.receiver_thread.is_alive():\n            self.receiver_thread.join(timeout=2)\n        if self.display_thread and self.display_thread.is_alive():\n            self.display_thread.join(timeout=2)\n\nstream_state = NDIStreamState()",
   "execution_count": null,
   "outputs": []
  },
  {
   "metadata": {
    "trusted": true
   },
   "cell_type": "code",
   "source": "## 🔄 Cell 3: Enhanced NDI Receiver\n\ndef ndi_receiver_loop(state):\n    \"\"\"Background thread for NDI frame capture with proper error handling\"\"\"\n    try:\n        # Initialize NDI\n        if not ndi.initialize():\n            print(\"Failed to initialize NDI\")\n            return\n            \n        print(\"NDI initialized successfully\")\n        \n        # Find NDI sources\n        sources = ndi.find_sources(timeout=5000)\n        if not sources:\n            print(\"No NDI sources found\")\n            return\n            \n        print(f\"Found {len(sources)} NDI sources:\")\n        for i, source in enumerate(sources):\n            print(f\"  {i}: {source.name}\")\n        \n        # Create receiver\n        receiver = ndi.Receiver()\n        receiver.connect(sources[0])  # Connect to first source\n        print(f\"Connected to: {sources[0].name}\")\n        \n        frame_count = 0\n        while not state.stop_event.is_set():\n            try:\n                # Capture frame with timeout\n                frame = receiver.read(timeout=1000)  # 1 second timeout\n                \n                if frame is not None:\n                    frame_count += 1\n                    # Convert to RGB if needed\n                    if frame.shape[2] == 4:  # RGBA\n                        frame = cv2.cvtColor(frame, cv2.COLOR_RGBA2RGB)\n                    elif frame.shape[2] == 3 and frame.dtype == np.uint8:\n                        frame = cv2.cvtColor(frame, cv2.COLOR_BGR2RGB)\n                    \n                    # Add frame to queue (non-blocking)\n                    try:\n                        state.frame_queue.put_nowait({\n                            'frame': frame,\n                            'timestamp': time.time(),\n                            'frame_number': frame_count\n                        })\n                    except queue.Full:\n                        # Remove old frame and add new one\n                        try:\n                            state.frame_queue.get_nowait()\n                            state.frame_queue.put_nowait({\n                                'frame': frame,\n                                'timestamp': time.time(),\n                                'frame_number': frame_count\n                            })\n                        except queue.Empty:\n                            pass\n                            \n            except Exception as e:\n                print(f\"Frame capture error: {e}\")\n                time.sleep(0.1)\n                \n    except Exception as e:\n        print(f\"NDI receiver error: {e}\")\n    finally:\n        try:\n            ndi.destroy()\n        except:\n            pass\n        print(\"NDI receiver stopped\")",
   "execution_count": null,
   "outputs": []
  },
  {
   "metadata": {
    "trusted": true
   },
   "cell_type": "code",
   "source": "## 🖼️ Cell 4: Display Widget with Controls\n\n# Create widgets\nimage_widget = widgets.Image(\n    format='jpeg',  # Better compression than raw\n    width=640,\n    height=360\n)\n\n# Info display\ninfo_label = widgets.HTML(value=\"<b>Status:</b> Initializing...\")\n\n# Control buttons\nstart_button = widgets.Button(description=\"Start Stream\", button_style='success')\nstop_button = widgets.Button(description=\"Stop Stream\", button_style='danger')\nsnapshot_button = widgets.Button(description=\"Save Snapshot\", button_style='info')\n\n# Layout\ncontrols = widgets.HBox([start_button, stop_button, snapshot_button])\ndisplay_box = widgets.VBox([\n    info_label,\n    image_widget,\n    controls\n])\n\ndisplay(display_box)\n\n# Global variables for tracking\ncurrent_frame = None\nframe_stats = {'count': 0, 'fps': 0, 'last_time': time.time()}",
   "execution_count": null,
   "outputs": []
  },
  {
   "metadata": {
    "trusted": true
   },
   "cell_type": "code",
   "source": "## 🚀 Cell 5: Display Update Loop\n\ndef display_update_loop(state):\n    \"\"\"Update display widget with latest frames\"\"\"\n    global current_frame, frame_stats\n    \n    while not state.stop_event.is_set():\n        try:\n            # Get latest frame (non-blocking)\n            frame_data = state.frame_queue.get(timeout=0.1)\n            current_frame = frame_data['frame']\n            \n            # Resize for display\n            display_frame = cv2.resize(current_frame, (640, 360))\n            \n            # Convert to JPEG bytes for widget\n            _, buffer = cv2.imencode('.jpg', display_frame, [cv2.IMWRITE_JPEG_QUALITY, 80])\n            image_widget.value = buffer.tobytes()\n            \n            # Update stats\n            frame_stats['count'] += 1\n            current_time = time.time()\n            time_diff = current_time - frame_stats['last_time']\n            if time_diff >= 1.0:  # Update FPS every second\n                frame_stats['fps'] = frame_stats['count'] / time_diff\n                frame_stats['count'] = 0\n                frame_stats['last_time'] = current_time\n            \n            # Update info\n            info_label.value = f\"\"\"\n            <b>Status:</b> Streaming | \n            <b>FPS:</b> {frame_stats['fps']:.1f} | \n            <b>Frame:</b> {frame_data['frame_number']} |\n            <b>Resolution:</b> {current_frame.shape[1]}x{current_frame.shape[0]}\n            \"\"\"\n            \n        except queue.Empty:\n            continue\n        except Exception as e:\n            print(f\"Display update error: {e}\")\n            time.sleep(0.1)",
   "execution_count": null,
   "outputs": []
  },
  {
   "metadata": {
    "trusted": true
   },
   "cell_type": "code",
   "source": "## 🎮 Cell 6: Button Event Handlers\n\ndef start_streaming(_):\n    \"\"\"Start NDI streaming\"\"\"\n    global stream_state\n    \n    if stream_state.receiver_thread and stream_state.receiver_thread.is_alive():\n        print(\"Stream already running!\")\n        return\n    \n    # Reset state\n    stream_state = NDIStreamState()\n    \n    # Start threads\n    stream_state.receiver_thread = threading.Thread(\n        target=ndi_receiver_loop, \n        args=(stream_state,), \n        daemon=True\n    )\n    stream_state.display_thread = threading.Thread(\n        target=display_update_loop, \n        args=(stream_state,), \n        daemon=True\n    )\n    \n    stream_state.receiver_thread.start()\n    stream_state.display_thread.start()\n    \n    info_label.value = \"<b>Status:</b> Starting stream...\"\n    print(\"NDI stream started\")\n\ndef stop_streaming(_):\n    \"\"\"Stop NDI streaming\"\"\"\n    global stream_state\n    stream_state.stop_all()\n    info_label.value = \"<b>Status:</b> Stopped\"\n    print(\"NDI stream stopped\")\n\ndef save_snapshot(_):\n    \"\"\"Save current frame as image\"\"\"\n    global current_frame\n    if current_frame is not None:\n        timestamp = time.strftime(\"%Y%m%d_%H%M%S\")\n        filename = f\"ndi_snapshot_{timestamp}.jpg\"\n        cv2.imwrite(filename, cv2.cvtColor(current_frame, cv2.COLOR_RGB2BGR))\n        print(f\"Snapshot saved: {filename}\")\n    else:\n        print(\"No frame available to save\")\n\n# Connect button events\nstart_button.on_click(start_streaming)\nstop_button.on_click(stop_streaming)\nsnapshot_button.on_click(save_snapshot)",
   "execution_count": null,
   "outputs": []
  },
  {
   "metadata": {
    "trusted": true
   },
   "cell_type": "code",
   "source": "## 🛑 Cell 7: Cleanup (Run when done)\n\n# Cleanup function\ndef cleanup_ndi():\n    global stream_state\n    stream_state.stop_all()\n    # Clear display\n    image_widget.value = b''\n    info_label.value = \"<b>Status:</b> Cleaned up\"\n    print(\"NDI streaming cleaned up\")\n\n# Auto-cleanup when notebook kernel is interrupted\nimport atexit\natexit.register(cleanup_ndi)\n\n# Manual cleanup\n# cleanup_ndi()  # Uncomment to run cleanup",
   "execution_count": null,
   "outputs": []
  },
  {
   "metadata": {},
   "cell_type": "markdown",
   "source": "## 💡 Key Improvements\n\n1. **Better Threading**: Separate threads for capture and display with proper synchronization\n1. **Queue Management**: Prevents memory buildup with frame queue limiting\n1. **Error Handling**: Comprehensive try-catch blocks and timeout handling\n1. **User Controls**: Start/stop buttons and snapshot functionality\n1. **Performance Stats**: Real-time FPS and frame counter display\n1. **Proper Cleanup**: Ensures threads are stopped cleanly\n\n## 🔧 Troubleshooting Tips\n\n- **No NDI Sources**: Ensure NDI-enabled devices are on the same network\n- **Poor Performance**: Reduce frame rate or resolution in the NDI source\n- **Memory Issues**: The queue system prevents buildup, but monitor usage\n- **Threading Issues**: Always use the stop button rather than kernel restart\n\n## 🚀 Next Steps\n\n- Add frame processing filters (blur, edge detection, etc.)\n- Implement recording functionality\n- Add multiple source selection\n- Create custom overlays or annotations"
  },
  {
   "metadata": {
    "trusted": false
   },
   "cell_type": "code",
   "source": "",
   "execution_count": null,
   "outputs": []
  }
 ],
 "metadata": {
  "kernelspec": {
   "name": "python3",
   "display_name": "Python 3",
   "language": "python"
  },
  "language_info": {
   "name": "python",
   "version": "3.10.4",
   "mimetype": "text/x-python",
   "codemirror_mode": {
    "name": "ipython",
    "version": 3
   },
   "pygments_lexer": "ipython3",
   "nbconvert_exporter": "python",
   "file_extension": ".py"
  }
 },
 "nbformat": 4,
 "nbformat_minor": 2
}
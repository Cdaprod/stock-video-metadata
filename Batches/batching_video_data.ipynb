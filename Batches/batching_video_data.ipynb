{
 "cells": [
  {
   "metadata": {
    "trusted": false
   },
   "cell_type": "markdown",
   "source": "# Batching Video Metadata\n\n#### Author: David Cannan — Cdaprod\n\nThis python notebook is the go-to place to work on local Video Data, more specifically by means of the `./Batches/..` directory at the same level as this notebook. \n\nThe source of your modules should be placed and ran from `<this notebook>` and the `./scripts/..` directory."
  },
  {
   "metadata": {
    "trusted": true
   },
   "cell_type": "code",
   "source": "%run scripts/compile_batch_metadata.py",
   "execution_count": null,
   "outputs": []
  },
  {
   "metadata": {},
   "cell_type": "markdown",
   "source": "The above cell runs the `scripts/compile_batch_metadata.py` script that generates a local metadata file out of the recursive video data located in `Batches`. "
  },
  {
   "metadata": {},
   "cell_type": "markdown",
   "source": "# Next we... "
  },
  {
   "metadata": {
    "trusted": true
   },
   "cell_type": "code",
   "source": "",
   "execution_count": null,
   "outputs": []
  }
 ],
 "metadata": {
  "kernelspec": {
   "name": "python3",
   "display_name": "Python 3",
   "language": "python"
  },
  "language_info": {
   "name": "python",
   "version": "3.10.4",
   "mimetype": "text/x-python",
   "codemirror_mode": {
    "name": "ipython",
    "version": 3
   },
   "pygments_lexer": "ipython3",
   "nbconvert_exporter": "python",
   "file_extension": ".py"
  }
 },
 "nbformat": 4,
 "nbformat_minor": 2
}
{
 "cells": [
  {
   "cell_type": "markdown",
   "metadata": {},
   "source": [
    "# Stock Video Metadata Pipeline"
   ]
  },
  {
   "cell_type": "code",
   "execution_count": 1,
   "metadata": {
    "collapsed": true,
    "jupyter": {
     "outputs_hidden": true
    }
   },
   "outputs": [
    {
     "name": "stdout",
     "output_type": "stream",
     "text": [
      "Requirement already satisfied: pandas in c:\\users\\david\\appdata\\local\\packages\\pythonsoftwarefoundation.python.3.9_qbz5n2kfra8p0\\localcache\\local-packages\\python39\\site-packages (2.1.1)\n",
      "Requirement already satisfied: opencv-python in c:\\users\\david\\appdata\\local\\packages\\pythonsoftwarefoundation.python.3.9_qbz5n2kfra8p0\\localcache\\local-packages\\python39\\site-packages (4.7.0.72)\n",
      "Requirement already satisfied: Pillow in c:\\users\\david\\appdata\\local\\packages\\pythonsoftwarefoundation.python.3.9_qbz5n2kfra8p0\\localcache\\local-packages\\python39\\site-packages (9.5.0)\n",
      "Requirement already satisfied: transformers in c:\\users\\david\\appdata\\local\\packages\\pythonsoftwarefoundation.python.3.9_qbz5n2kfra8p0\\localcache\\local-packages\\python39\\site-packages (4.38.2)\n",
      "Requirement already satisfied: torch in c:\\users\\david\\appdata\\local\\packages\\pythonsoftwarefoundation.python.3.9_qbz5n2kfra8p0\\localcache\\local-packages\\python39\\site-packages (1.13.1)\n",
      "Requirement already satisfied: paramiko in c:\\users\\david\\appdata\\local\\packages\\pythonsoftwarefoundation.python.3.9_qbz5n2kfra8p0\\localcache\\local-packages\\python39\\site-packages (3.3.1)\n",
      "Collecting ultralytics\n",
      "  Downloading ultralytics-8.3.154-py3-none-any.whl.metadata (37 kB)\n",
      "Requirement already satisfied: numpy>=1.22.4 in c:\\users\\david\\appdata\\local\\packages\\pythonsoftwarefoundation.python.3.9_qbz5n2kfra8p0\\localcache\\local-packages\\python39\\site-packages (from pandas) (1.24.3)\n",
      "Requirement already satisfied: python-dateutil>=2.8.2 in c:\\users\\david\\appdata\\local\\packages\\pythonsoftwarefoundation.python.3.9_qbz5n2kfra8p0\\localcache\\local-packages\\python39\\site-packages (from pandas) (2.8.2)\n",
      "Requirement already satisfied: pytz>=2020.1 in c:\\users\\david\\appdata\\local\\packages\\pythonsoftwarefoundation.python.3.9_qbz5n2kfra8p0\\localcache\\local-packages\\python39\\site-packages (from pandas) (2024.1)\n",
      "Requirement already satisfied: tzdata>=2022.1 in c:\\users\\david\\appdata\\local\\packages\\pythonsoftwarefoundation.python.3.9_qbz5n2kfra8p0\\localcache\\local-packages\\python39\\site-packages (from pandas) (2023.3)\n",
      "Requirement already satisfied: filelock in c:\\users\\david\\appdata\\local\\packages\\pythonsoftwarefoundation.python.3.9_qbz5n2kfra8p0\\localcache\\local-packages\\python39\\site-packages (from transformers) (3.12.0)\n",
      "Requirement already satisfied: huggingface-hub<1.0,>=0.19.3 in c:\\users\\david\\appdata\\local\\packages\\pythonsoftwarefoundation.python.3.9_qbz5n2kfra8p0\\localcache\\local-packages\\python39\\site-packages (from transformers) (0.21.4)\n",
      "Requirement already satisfied: packaging>=20.0 in c:\\users\\david\\appdata\\local\\packages\\pythonsoftwarefoundation.python.3.9_qbz5n2kfra8p0\\localcache\\local-packages\\python39\\site-packages (from transformers) (23.2)\n",
      "Requirement already satisfied: pyyaml>=5.1 in c:\\users\\david\\appdata\\local\\packages\\pythonsoftwarefoundation.python.3.9_qbz5n2kfra8p0\\localcache\\local-packages\\python39\\site-packages (from transformers) (6.0.1)\n",
      "Requirement already satisfied: regex!=2019.12.17 in c:\\users\\david\\appdata\\local\\packages\\pythonsoftwarefoundation.python.3.9_qbz5n2kfra8p0\\localcache\\local-packages\\python39\\site-packages (from transformers) (2023.12.25)\n",
      "Requirement already satisfied: requests in c:\\users\\david\\appdata\\local\\packages\\pythonsoftwarefoundation.python.3.9_qbz5n2kfra8p0\\localcache\\local-packages\\python39\\site-packages (from transformers) (2.31.0)\n",
      "Requirement already satisfied: tokenizers<0.19,>=0.14 in c:\\users\\david\\appdata\\local\\packages\\pythonsoftwarefoundation.python.3.9_qbz5n2kfra8p0\\localcache\\local-packages\\python39\\site-packages (from transformers) (0.15.2)\n",
      "Requirement already satisfied: safetensors>=0.4.1 in c:\\users\\david\\appdata\\local\\packages\\pythonsoftwarefoundation.python.3.9_qbz5n2kfra8p0\\localcache\\local-packages\\python39\\site-packages (from transformers) (0.4.2)\n",
      "Requirement already satisfied: tqdm>=4.27 in c:\\users\\david\\appdata\\local\\packages\\pythonsoftwarefoundation.python.3.9_qbz5n2kfra8p0\\localcache\\local-packages\\python39\\site-packages (from transformers) (4.66.2)\n",
      "Requirement already satisfied: fsspec>=2023.5.0 in c:\\users\\david\\appdata\\local\\packages\\pythonsoftwarefoundation.python.3.9_qbz5n2kfra8p0\\localcache\\local-packages\\python39\\site-packages (from huggingface-hub<1.0,>=0.19.3->transformers) (2024.2.0)\n",
      "Requirement already satisfied: typing-extensions>=3.7.4.3 in c:\\users\\david\\appdata\\local\\packages\\pythonsoftwarefoundation.python.3.9_qbz5n2kfra8p0\\localcache\\local-packages\\python39\\site-packages (from huggingface-hub<1.0,>=0.19.3->transformers) (4.12.2)\n",
      "Requirement already satisfied: bcrypt>=3.2 in c:\\users\\david\\appdata\\local\\packages\\pythonsoftwarefoundation.python.3.9_qbz5n2kfra8p0\\localcache\\local-packages\\python39\\site-packages (from paramiko) (4.0.1)\n",
      "Requirement already satisfied: cryptography>=3.3 in c:\\users\\david\\appdata\\local\\packages\\pythonsoftwarefoundation.python.3.9_qbz5n2kfra8p0\\localcache\\local-packages\\python39\\site-packages (from paramiko) (41.0.7)\n",
      "Requirement already satisfied: pynacl>=1.5 in c:\\users\\david\\appdata\\local\\packages\\pythonsoftwarefoundation.python.3.9_qbz5n2kfra8p0\\localcache\\local-packages\\python39\\site-packages (from paramiko) (1.5.0)\n",
      "Requirement already satisfied: matplotlib>=3.3.0 in c:\\users\\david\\appdata\\local\\packages\\pythonsoftwarefoundation.python.3.9_qbz5n2kfra8p0\\localcache\\local-packages\\python39\\site-packages (from ultralytics) (3.8.2)\n",
      "Requirement already satisfied: scipy>=1.4.1 in c:\\users\\david\\appdata\\local\\packages\\pythonsoftwarefoundation.python.3.9_qbz5n2kfra8p0\\localcache\\local-packages\\python39\\site-packages (from ultralytics) (1.12.0)\n",
      "Requirement already satisfied: torchvision>=0.9.0 in c:\\users\\david\\appdata\\local\\packages\\pythonsoftwarefoundation.python.3.9_qbz5n2kfra8p0\\localcache\\local-packages\\python39\\site-packages (from ultralytics) (0.14.1+cu117)\n",
      "Requirement already satisfied: psutil in c:\\users\\david\\appdata\\local\\packages\\pythonsoftwarefoundation.python.3.9_qbz5n2kfra8p0\\localcache\\local-packages\\python39\\site-packages (from ultralytics) (5.9.5)\n",
      "Requirement already satisfied: py-cpuinfo in c:\\users\\david\\appdata\\local\\packages\\pythonsoftwarefoundation.python.3.9_qbz5n2kfra8p0\\localcache\\local-packages\\python39\\site-packages (from ultralytics) (9.0.0)\n",
      "Collecting ultralytics-thop>=2.0.0 (from ultralytics)\n",
      "  Downloading ultralytics_thop-2.0.14-py3-none-any.whl.metadata (9.4 kB)\n",
      "Requirement already satisfied: cffi>=1.12 in c:\\users\\david\\appdata\\local\\packages\\pythonsoftwarefoundation.python.3.9_qbz5n2kfra8p0\\localcache\\local-packages\\python39\\site-packages (from cryptography>=3.3->paramiko) (1.15.1)\n",
      "Requirement already satisfied: pycparser in c:\\users\\david\\appdata\\local\\packages\\pythonsoftwarefoundation.python.3.9_qbz5n2kfra8p0\\localcache\\local-packages\\python39\\site-packages (from cffi>=1.12->cryptography>=3.3->paramiko) (2.21)\n",
      "Requirement already satisfied: contourpy>=1.0.1 in c:\\users\\david\\appdata\\local\\packages\\pythonsoftwarefoundation.python.3.9_qbz5n2kfra8p0\\localcache\\local-packages\\python39\\site-packages (from matplotlib>=3.3.0->ultralytics) (1.0.7)\n",
      "Requirement already satisfied: cycler>=0.10 in c:\\users\\david\\appdata\\local\\packages\\pythonsoftwarefoundation.python.3.9_qbz5n2kfra8p0\\localcache\\local-packages\\python39\\site-packages (from matplotlib>=3.3.0->ultralytics) (0.11.0)\n",
      "Requirement already satisfied: fonttools>=4.22.0 in c:\\users\\david\\appdata\\local\\packages\\pythonsoftwarefoundation.python.3.9_qbz5n2kfra8p0\\localcache\\local-packages\\python39\\site-packages (from matplotlib>=3.3.0->ultralytics) (4.39.4)\n",
      "Requirement already satisfied: kiwisolver>=1.3.1 in c:\\users\\david\\appdata\\local\\packages\\pythonsoftwarefoundation.python.3.9_qbz5n2kfra8p0\\localcache\\local-packages\\python39\\site-packages (from matplotlib>=3.3.0->ultralytics) (1.4.4)\n",
      "Requirement already satisfied: pyparsing>=2.3.1 in c:\\users\\david\\appdata\\local\\packages\\pythonsoftwarefoundation.python.3.9_qbz5n2kfra8p0\\localcache\\local-packages\\python39\\site-packages (from matplotlib>=3.3.0->ultralytics) (3.0.9)\n",
      "Requirement already satisfied: importlib-resources>=3.2.0 in c:\\users\\david\\appdata\\local\\packages\\pythonsoftwarefoundation.python.3.9_qbz5n2kfra8p0\\localcache\\local-packages\\python39\\site-packages (from matplotlib>=3.3.0->ultralytics) (5.12.0)\n",
      "Requirement already satisfied: zipp>=3.1.0 in c:\\users\\david\\appdata\\local\\packages\\pythonsoftwarefoundation.python.3.9_qbz5n2kfra8p0\\localcache\\local-packages\\python39\\site-packages (from importlib-resources>=3.2.0->matplotlib>=3.3.0->ultralytics) (3.15.0)\n",
      "Requirement already satisfied: six>=1.5 in c:\\users\\david\\appdata\\local\\packages\\pythonsoftwarefoundation.python.3.9_qbz5n2kfra8p0\\localcache\\local-packages\\python39\\site-packages (from python-dateutil>=2.8.2->pandas) (1.16.0)\n",
      "Requirement already satisfied: charset-normalizer<4,>=2 in c:\\users\\david\\appdata\\local\\packages\\pythonsoftwarefoundation.python.3.9_qbz5n2kfra8p0\\localcache\\local-packages\\python39\\site-packages (from requests->transformers) (3.3.2)\n",
      "Requirement already satisfied: idna<4,>=2.5 in c:\\users\\david\\appdata\\local\\packages\\pythonsoftwarefoundation.python.3.9_qbz5n2kfra8p0\\localcache\\local-packages\\python39\\site-packages (from requests->transformers) (3.6)\n",
      "Requirement already satisfied: urllib3<3,>=1.21.1 in c:\\users\\david\\appdata\\local\\packages\\pythonsoftwarefoundation.python.3.9_qbz5n2kfra8p0\\localcache\\local-packages\\python39\\site-packages (from requests->transformers) (1.26.18)\n",
      "Requirement already satisfied: certifi>=2017.4.17 in c:\\users\\david\\appdata\\local\\packages\\pythonsoftwarefoundation.python.3.9_qbz5n2kfra8p0\\localcache\\local-packages\\python39\\site-packages (from requests->transformers) (2024.2.2)\n",
      "Requirement already satisfied: colorama in c:\\users\\david\\appdata\\local\\packages\\pythonsoftwarefoundation.python.3.9_qbz5n2kfra8p0\\localcache\\local-packages\\python39\\site-packages (from tqdm>=4.27->transformers) (0.4.6)\n",
      "Downloading ultralytics-8.3.154-py3-none-any.whl (1.0 MB)\n",
      "   ---------------------------------------- 0.0/1.0 MB ? eta -:--:--\n",
      "   ---------------------------------------- 1.0/1.0 MB ? eta 0:00:00\n",
      "Downloading ultralytics_thop-2.0.14-py3-none-any.whl (26 kB)\n",
      "Installing collected packages: ultralytics-thop, ultralytics\n",
      "\n",
      "   -------------------- ------------------- 1/2 [ultralytics]\n",
      "   -------------------- ------------------- 1/2 [ultralytics]\n",
      "   -------------------- ------------------- 1/2 [ultralytics]\n",
      "   -------------------- ------------------- 1/2 [ultralytics]\n",
      "   -------------------- ------------------- 1/2 [ultralytics]\n",
      "   -------------------- ------------------- 1/2 [ultralytics]\n",
      "   -------------------- ------------------- 1/2 [ultralytics]\n",
      "   -------------------- ------------------- 1/2 [ultralytics]\n",
      "   -------------------- ------------------- 1/2 [ultralytics]\n",
      "   -------------------- ------------------- 1/2 [ultralytics]\n",
      "   -------------------- ------------------- 1/2 [ultralytics]\n",
      "   -------------------- ------------------- 1/2 [ultralytics]\n",
      "   -------------------- ------------------- 1/2 [ultralytics]\n",
      "   ---------------------------------------- 2/2 [ultralytics]\n",
      "\n",
      "Successfully installed ultralytics-8.3.154 ultralytics-thop-2.0.14\n"
     ]
    }
   ],
   "source": [
    "# Running on host - Cell 1: Install dependencies\n",
    "!pip install pandas opencv-python Pillow transformers torch paramiko ultralytics"
   ]
  },
  {
   "cell_type": "code",
   "execution_count": 2,
   "metadata": {
    "collapsed": true,
    "jupyter": {
     "outputs_hidden": true
    },
    "scrolled": true
   },
   "outputs": [
    {
     "name": "stdout",
     "output_type": "stream",
     "text": [
      "Requirement already satisfied: pandas in c:\\users\\david\\appdata\\local\\packages\\pythonsoftwarefoundation.python.3.9_qbz5n2kfra8p0\\localcache\\local-packages\\python39\\site-packages (2.1.1)\n",
      "Requirement already satisfied: opencv-python in c:\\users\\david\\appdata\\local\\packages\\pythonsoftwarefoundation.python.3.9_qbz5n2kfra8p0\\localcache\\local-packages\\python39\\site-packages (4.7.0.72)\n",
      "Requirement already satisfied: Pillow in c:\\users\\david\\appdata\\local\\packages\\pythonsoftwarefoundation.python.3.9_qbz5n2kfra8p0\\localcache\\local-packages\\python39\\site-packages (9.5.0)\n",
      "Requirement already satisfied: ultralytics in c:\\users\\david\\appdata\\local\\packages\\pythonsoftwarefoundation.python.3.9_qbz5n2kfra8p0\\localcache\\local-packages\\python39\\site-packages (8.3.154)\n",
      "Requirement already satisfied: paramiko in c:\\users\\david\\appdata\\local\\packages\\pythonsoftwarefoundation.python.3.9_qbz5n2kfra8p0\\localcache\\local-packages\\python39\\site-packages (3.3.1)\n",
      "Requirement already satisfied: numpy>=1.22.4 in c:\\users\\david\\appdata\\local\\packages\\pythonsoftwarefoundation.python.3.9_qbz5n2kfra8p0\\localcache\\local-packages\\python39\\site-packages (from pandas) (1.24.3)\n",
      "Requirement already satisfied: python-dateutil>=2.8.2 in c:\\users\\david\\appdata\\local\\packages\\pythonsoftwarefoundation.python.3.9_qbz5n2kfra8p0\\localcache\\local-packages\\python39\\site-packages (from pandas) (2.8.2)\n",
      "Requirement already satisfied: pytz>=2020.1 in c:\\users\\david\\appdata\\local\\packages\\pythonsoftwarefoundation.python.3.9_qbz5n2kfra8p0\\localcache\\local-packages\\python39\\site-packages (from pandas) (2024.1)\n",
      "Requirement already satisfied: tzdata>=2022.1 in c:\\users\\david\\appdata\\local\\packages\\pythonsoftwarefoundation.python.3.9_qbz5n2kfra8p0\\localcache\\local-packages\\python39\\site-packages (from pandas) (2023.3)\n",
      "Requirement already satisfied: matplotlib>=3.3.0 in c:\\users\\david\\appdata\\local\\packages\\pythonsoftwarefoundation.python.3.9_qbz5n2kfra8p0\\localcache\\local-packages\\python39\\site-packages (from ultralytics) (3.8.2)\n",
      "Requirement already satisfied: pyyaml>=5.3.1 in c:\\users\\david\\appdata\\local\\packages\\pythonsoftwarefoundation.python.3.9_qbz5n2kfra8p0\\localcache\\local-packages\\python39\\site-packages (from ultralytics) (6.0.1)\n",
      "Requirement already satisfied: requests>=2.23.0 in c:\\users\\david\\appdata\\local\\packages\\pythonsoftwarefoundation.python.3.9_qbz5n2kfra8p0\\localcache\\local-packages\\python39\\site-packages (from ultralytics) (2.31.0)\n",
      "Requirement already satisfied: scipy>=1.4.1 in c:\\users\\david\\appdata\\local\\packages\\pythonsoftwarefoundation.python.3.9_qbz5n2kfra8p0\\localcache\\local-packages\\python39\\site-packages (from ultralytics) (1.12.0)\n",
      "Requirement already satisfied: torch>=1.8.0 in c:\\users\\david\\appdata\\local\\packages\\pythonsoftwarefoundation.python.3.9_qbz5n2kfra8p0\\localcache\\local-packages\\python39\\site-packages (from ultralytics) (1.13.1)\n",
      "Requirement already satisfied: torchvision>=0.9.0 in c:\\users\\david\\appdata\\local\\packages\\pythonsoftwarefoundation.python.3.9_qbz5n2kfra8p0\\localcache\\local-packages\\python39\\site-packages (from ultralytics) (0.14.1+cu117)\n",
      "Requirement already satisfied: tqdm>=4.64.0 in c:\\users\\david\\appdata\\local\\packages\\pythonsoftwarefoundation.python.3.9_qbz5n2kfra8p0\\localcache\\local-packages\\python39\\site-packages (from ultralytics) (4.66.2)\n",
      "Requirement already satisfied: psutil in c:\\users\\david\\appdata\\local\\packages\\pythonsoftwarefoundation.python.3.9_qbz5n2kfra8p0\\localcache\\local-packages\\python39\\site-packages (from ultralytics) (5.9.5)\n",
      "Requirement already satisfied: py-cpuinfo in c:\\users\\david\\appdata\\local\\packages\\pythonsoftwarefoundation.python.3.9_qbz5n2kfra8p0\\localcache\\local-packages\\python39\\site-packages (from ultralytics) (9.0.0)\n",
      "Requirement already satisfied: ultralytics-thop>=2.0.0 in c:\\users\\david\\appdata\\local\\packages\\pythonsoftwarefoundation.python.3.9_qbz5n2kfra8p0\\localcache\\local-packages\\python39\\site-packages (from ultralytics) (2.0.14)\n",
      "Requirement already satisfied: bcrypt>=3.2 in c:\\users\\david\\appdata\\local\\packages\\pythonsoftwarefoundation.python.3.9_qbz5n2kfra8p0\\localcache\\local-packages\\python39\\site-packages (from paramiko) (4.0.1)\n",
      "Requirement already satisfied: cryptography>=3.3 in c:\\users\\david\\appdata\\local\\packages\\pythonsoftwarefoundation.python.3.9_qbz5n2kfra8p0\\localcache\\local-packages\\python39\\site-packages (from paramiko) (41.0.7)\n",
      "Requirement already satisfied: pynacl>=1.5 in c:\\users\\david\\appdata\\local\\packages\\pythonsoftwarefoundation.python.3.9_qbz5n2kfra8p0\\localcache\\local-packages\\python39\\site-packages (from paramiko) (1.5.0)\n",
      "Requirement already satisfied: cffi>=1.12 in c:\\users\\david\\appdata\\local\\packages\\pythonsoftwarefoundation.python.3.9_qbz5n2kfra8p0\\localcache\\local-packages\\python39\\site-packages (from cryptography>=3.3->paramiko) (1.15.1)\n",
      "Requirement already satisfied: pycparser in c:\\users\\david\\appdata\\local\\packages\\pythonsoftwarefoundation.python.3.9_qbz5n2kfra8p0\\localcache\\local-packages\\python39\\site-packages (from cffi>=1.12->cryptography>=3.3->paramiko) (2.21)\n",
      "Requirement already satisfied: contourpy>=1.0.1 in c:\\users\\david\\appdata\\local\\packages\\pythonsoftwarefoundation.python.3.9_qbz5n2kfra8p0\\localcache\\local-packages\\python39\\site-packages (from matplotlib>=3.3.0->ultralytics) (1.0.7)\n",
      "Requirement already satisfied: cycler>=0.10 in c:\\users\\david\\appdata\\local\\packages\\pythonsoftwarefoundation.python.3.9_qbz5n2kfra8p0\\localcache\\local-packages\\python39\\site-packages (from matplotlib>=3.3.0->ultralytics) (0.11.0)\n",
      "Requirement already satisfied: fonttools>=4.22.0 in c:\\users\\david\\appdata\\local\\packages\\pythonsoftwarefoundation.python.3.9_qbz5n2kfra8p0\\localcache\\local-packages\\python39\\site-packages (from matplotlib>=3.3.0->ultralytics) (4.39.4)\n",
      "Requirement already satisfied: kiwisolver>=1.3.1 in c:\\users\\david\\appdata\\local\\packages\\pythonsoftwarefoundation.python.3.9_qbz5n2kfra8p0\\localcache\\local-packages\\python39\\site-packages (from matplotlib>=3.3.0->ultralytics) (1.4.4)\n",
      "Requirement already satisfied: packaging>=20.0 in c:\\users\\david\\appdata\\local\\packages\\pythonsoftwarefoundation.python.3.9_qbz5n2kfra8p0\\localcache\\local-packages\\python39\\site-packages (from matplotlib>=3.3.0->ultralytics) (23.2)\n",
      "Requirement already satisfied: pyparsing>=2.3.1 in c:\\users\\david\\appdata\\local\\packages\\pythonsoftwarefoundation.python.3.9_qbz5n2kfra8p0\\localcache\\local-packages\\python39\\site-packages (from matplotlib>=3.3.0->ultralytics) (3.0.9)\n",
      "Requirement already satisfied: importlib-resources>=3.2.0 in c:\\users\\david\\appdata\\local\\packages\\pythonsoftwarefoundation.python.3.9_qbz5n2kfra8p0\\localcache\\local-packages\\python39\\site-packages (from matplotlib>=3.3.0->ultralytics) (5.12.0)\n",
      "Requirement already satisfied: zipp>=3.1.0 in c:\\users\\david\\appdata\\local\\packages\\pythonsoftwarefoundation.python.3.9_qbz5n2kfra8p0\\localcache\\local-packages\\python39\\site-packages (from importlib-resources>=3.2.0->matplotlib>=3.3.0->ultralytics) (3.15.0)\n",
      "Requirement already satisfied: six>=1.5 in c:\\users\\david\\appdata\\local\\packages\\pythonsoftwarefoundation.python.3.9_qbz5n2kfra8p0\\localcache\\local-packages\\python39\\site-packages (from python-dateutil>=2.8.2->pandas) (1.16.0)\n",
      "Requirement already satisfied: charset-normalizer<4,>=2 in c:\\users\\david\\appdata\\local\\packages\\pythonsoftwarefoundation.python.3.9_qbz5n2kfra8p0\\localcache\\local-packages\\python39\\site-packages (from requests>=2.23.0->ultralytics) (3.3.2)\n",
      "Requirement already satisfied: idna<4,>=2.5 in c:\\users\\david\\appdata\\local\\packages\\pythonsoftwarefoundation.python.3.9_qbz5n2kfra8p0\\localcache\\local-packages\\python39\\site-packages (from requests>=2.23.0->ultralytics) (3.6)\n",
      "Requirement already satisfied: urllib3<3,>=1.21.1 in c:\\users\\david\\appdata\\local\\packages\\pythonsoftwarefoundation.python.3.9_qbz5n2kfra8p0\\localcache\\local-packages\\python39\\site-packages (from requests>=2.23.0->ultralytics) (1.26.18)\n",
      "Requirement already satisfied: certifi>=2017.4.17 in c:\\users\\david\\appdata\\local\\packages\\pythonsoftwarefoundation.python.3.9_qbz5n2kfra8p0\\localcache\\local-packages\\python39\\site-packages (from requests>=2.23.0->ultralytics) (2024.2.2)\n",
      "Requirement already satisfied: typing-extensions in c:\\users\\david\\appdata\\local\\packages\\pythonsoftwarefoundation.python.3.9_qbz5n2kfra8p0\\localcache\\local-packages\\python39\\site-packages (from torch>=1.8.0->ultralytics) (4.12.2)\n",
      "Requirement already satisfied: colorama in c:\\users\\david\\appdata\\local\\packages\\pythonsoftwarefoundation.python.3.9_qbz5n2kfra8p0\\localcache\\local-packages\\python39\\site-packages (from tqdm>=4.64.0->ultralytics) (0.4.6)\n"
     ]
    }
   ],
   "source": [
    "# Running on Mobile - Cell 1: Install dependencies\n",
    "!pip install pandas opencv-python Pillow ultralytics paramiko\n",
    "# (Skip transformers/torch on mobile if you don’t need captioning here)"
   ]
  },
  {
   "cell_type": "code",
   "execution_count": 16,
   "metadata": {
    "scrolled": true
   },
   "outputs": [
    {
     "name": "stdout",
     "output_type": "stream",
     "text": [
      "📂 Repo root:     C:\\Users\\david\\JupyterLab\\stock-video-metadata\n",
      "📂 Batches root:  B:\\Video\\StockFootage\\Batches\n",
      "📂 Metadata dir:  C:\\Users\\david\\JupyterLab\\stock-video-metadata\\metadata\n"
     ]
    }
   ],
   "source": [
    "# Cell 2: Imports & Paths (fault‐tolerant for missing crypto libs)\n",
    "import sys\n",
    "from pathlib import Path\n",
    "import pandas as pd\n",
    "\n",
    "# 1) Locate & add the `scripts/` folder\n",
    "repo_root = Path.cwd()\n",
    "scripts_path = repo_root / \"scripts\"\n",
    "if not scripts_path.is_dir():\n",
    "    raise FileNotFoundError(\"Missing 'scripts/' directory in repo root\")\n",
    "sys.path.insert(0, str(scripts_path))\n",
    "\n",
    "# 2) Import pipeline modules, with graceful fallbacks\n",
    "from config      import get_smb_root, get_repo_root\n",
    "from discovery   import discover_video_batches, save_inventory\n",
    "\n",
    "# enrichment is already fault‐tolerant per our earlier patch\n",
    "from enrichment  import enrich_dataframe\n",
    "\n",
    "from export      import export_blackbox_csv, export_blackbox_xml\n",
    "\n",
    "# upload may warn if Paramiko isn’t installed\n",
    "from upload      import upload_batch_or_zip\n",
    "\n",
    "# 3) Resolve key paths\n",
    "batches_root = get_smb_root()\n",
    "metadata_dir  = repo_root / \"metadata\"\n",
    "metadata_dir.mkdir(exist_ok=True)\n",
    "\n",
    "print(\"📂 Repo root:    \", repo_root)\n",
    "print(\"📂 Batches root: \", batches_root)\n",
    "print(\"📂 Metadata dir: \", metadata_dir)"
   ]
  },
  {
   "cell_type": "code",
   "execution_count": 17,
   "metadata": {
    "scrolled": true
   },
   "outputs": [
    {
     "name": "stdout",
     "output_type": "stream",
     "text": [
      "📂 Using discovered video batches from: B:\\Video\\StockFootage\\Batches\n",
      "✅ Inventory written to C:\\Users\\david\\JupyterLab\\stock-video-metadata\\metadata\\batch_metadata.json and C:\\Users\\david\\JupyterLab\\stock-video-metadata\\metadata\\video_inventory.csv\n",
      "✅ Discovered 1 batches and saved metadata.\n",
      "{'well_pump': 16}\n"
     ]
    }
   ],
   "source": [
    "# Cell 3: Load or Discover Inventory Metadata\n",
    "from pprint import pprint\n",
    "\n",
    "batches = {}\n",
    "\n",
    "try:\n",
    "    if 'batches_root' in globals() and batches_root and batches_root.exists():\n",
    "        print(f\"📂 Using discovered video batches from: {batches_root}\")\n",
    "        batches = discover_video_batches(batches_root)\n",
    "        if batches:\n",
    "            save_inventory(\n",
    "                batches,\n",
    "                out_json = metadata_dir / \"batch_metadata.json\",\n",
    "                out_csv  = metadata_dir / \"video_inventory.csv\"\n",
    "            )\n",
    "            print(f\"✅ Discovered {len(batches)} batches and saved metadata.\")\n",
    "        else:\n",
    "            print(\"⚠️ No batches discovered.\")\n",
    "\n",
    "    elif (metadata_dir / \"video_inventory.csv\").exists():\n",
    "        print(f\"📁 Loading video inventory from existing CSV in: {metadata_dir}\")\n",
    "        df_inventory = pd.read_csv(metadata_dir / \"video_inventory.csv\")\n",
    "        print(f\"✅ Loaded {len(df_inventory)} video entries from CSV.\")\n",
    "        batches = None  # discovery dict not used in this fallback path\n",
    "\n",
    "    else:\n",
    "        raise FileNotFoundError(\"Neither batches directory nor video inventory CSV is available.\")\n",
    "\n",
    "    # Show preview if we discovered or loaded something\n",
    "    if batches:\n",
    "        pprint({k: len(v) for k, v in batches.items()})\n",
    "    elif 'df_inventory' in locals():\n",
    "        print(df_inventory[[\"filename\", \"full_path\"]].head())\n",
    "\n",
    "except FileNotFoundError as e:\n",
    "    print(f\"❌ Error: {e}\")\n",
    "    print(\"💡 Make sure either `batches_root` is valid or `video_inventory.csv` exists.\")\n",
    "\n",
    "except Exception as e:\n",
    "    print(f\"🚨 Unexpected error:\\n{e}\")"
   ]
  },
  {
   "cell_type": "code",
   "execution_count": 19,
   "metadata": {
    "scrolled": true
   },
   "outputs": [
    {
     "name": "stdout",
     "output_type": "stream",
     "text": [
      "📥 Loaded 16 videos from inventory.\n",
      "🧠 Found existing enrichment data: 16 rows\n"
     ]
    },
    {
     "name": "stderr",
     "output_type": "stream",
     "text": [
      "C:\\Users\\david\\AppData\\Local\\Packages\\PythonSoftwareFoundation.Python.3.9_qbz5n2kfra8p0\\LocalCache\\local-packages\\Python39\\site-packages\\transformers\\generation\\utils.py:1178: UserWarning: Using the model-agnostic default `max_length` (=20) to control the generation length. We recommend setting `max_new_tokens` to control the maximum length of the generation.\n",
      "  warnings.warn(\n"
     ]
    },
    {
     "name": "stdout",
     "output_type": "stream",
     "text": [
      "✨ Enriched 16 videos with AI+YOLO metadata.\n",
      "💾 Saved enriched metadata to: metadata\\enriched_videos.csv\n",
      "🚨 Unexpected error during enrichment: \"['AI_Description', 'AI_Keywords', 'YOLO_Objects', 'Hybrid_Description'] not in index\"\n"
     ]
    }
   ],
   "source": [
    "# ✅ Enrich Inventory with Enhanced AI Metadata (multi-frame, multi-model)\n",
    "\n",
    "import pandas as pd\n",
    "from pathlib import Path\n",
    "from scripts.enrichment import enrich_dataframe\n",
    "\n",
    "metadata_dir = Path(\"metadata\")\n",
    "inventory_csv = metadata_dir / \"video_inventory.csv\"\n",
    "enriched_csv = metadata_dir / \"enriched_videos.csv\"\n",
    "\n",
    "try:\n",
    "    # Load inventory\n",
    "    if not inventory_csv.exists():\n",
    "        raise FileNotFoundError(f\"Missing inventory file: {inventory_csv}\")\n",
    "    df_inventory = pd.read_csv(inventory_csv)\n",
    "    print(f\"📥 Loaded {len(df_inventory)} videos from inventory.\")\n",
    "\n",
    "    # Optionally load enriched data to preserve existing values\n",
    "    df_enriched = None\n",
    "    if enriched_csv.exists():\n",
    "        df_enriched = pd.read_csv(enriched_csv)\n",
    "        print(f\"🧠 Found existing enrichment data: {len(df_enriched)} rows\")\n",
    "\n",
    "        # Merge enriched data into inventory, preserving enhanced fields\n",
    "        enrichment_cols = [\n",
    "            \"AI_Description\", \"AI_Keywords\", \"YOLO_Objects\", \"Hybrid_Description\"\n",
    "        ]\n",
    "        for col in enrichment_cols:\n",
    "            if col in df_enriched.columns:\n",
    "                df_inventory[col] = df_enriched.set_index(\"filename\").reindex(df_inventory[\"filename\"])[col].values\n",
    "\n",
    "    # Drop entries without a valid full_path\n",
    "    df_inventory = df_inventory[df_inventory[\"full_path\"].notna()]\n",
    "    if df_inventory.empty:\n",
    "        raise ValueError(\"No valid video paths to enrich.\")\n",
    "\n",
    "    # Enrich!\n",
    "    df_enriched = enrich_dataframe(df_inventory)\n",
    "    print(f\"✨ Enriched {len(df_enriched)} videos with AI+YOLO metadata.\")\n",
    "\n",
    "    # Save enriched CSV\n",
    "    df_enriched.to_csv(enriched_csv, index=False)\n",
    "    print(f\"💾 Saved enriched metadata to: {enriched_csv}\")\n",
    "\n",
    "    # Preview enriched sample\n",
    "    preview_cols = [\n",
    "        \"filename\", \"AI_Description\", \"AI_Keywords\", \"YOLO_Objects\", \"Hybrid_Description\"\n",
    "    ]\n",
    "    display(df_enriched[preview_cols].head())\n",
    "\n",
    "except FileNotFoundError as e:\n",
    "    print(f\"❌ Inventory not found: {e}\")\n",
    "except Exception as e:\n",
    "    print(f\"🚨 Unexpected error during enrichment: {e}\")\n"
   ]
  },
  {
   "cell_type": "markdown",
   "metadata": {},
   "source": [
    "## 📤 Optional — Save the enriched version\n",
    "\n",
    "If enrich_dataframe() runs successfully, you can persist results:"
   ]
  },
  {
   "cell_type": "code",
   "execution_count": 8,
   "metadata": {
    "scrolled": true
   },
   "outputs": [],
   "source": [
    "# Save the enriched version\n",
    "(df_videos if df_videos is not None else df_inventory).to_csv(metadata_dir / \"enriched_videos.csv\", index=False)"
   ]
  },
  {
   "cell_type": "markdown",
   "metadata": {},
   "source": [
    "## Export BlackBox‐Ready CSV + XML: Modular Cell 5"
   ]
  },
  {
   "cell_type": "code",
   "execution_count": 9,
   "metadata": {
    "scrolled": true
   },
   "outputs": [
    {
     "ename": "KeyError",
     "evalue": "\"None of [Index(['Filename', 'Description', 'Keywords'], dtype='object')] are in the [columns]\"",
     "output_type": "error",
     "traceback": [
      "\u001b[1;31m---------------------------------------------------------------------------\u001b[0m",
      "\u001b[1;31mKeyError\u001b[0m                                  Traceback (most recent call last)",
      "Cell \u001b[1;32mIn[9], line 6\u001b[0m\n\u001b[0;32m      4\u001b[0m \u001b[38;5;66;03m# 1) Export the three‐column CSV\u001b[39;00m\n\u001b[0;32m      5\u001b[0m csv_path \u001b[38;5;241m=\u001b[39m metadata_dir \u001b[38;5;241m/\u001b[39m \u001b[38;5;124m\"\u001b[39m\u001b[38;5;124mblackbox_metadata.csv\u001b[39m\u001b[38;5;124m\"\u001b[39m\n\u001b[1;32m----> 6\u001b[0m \u001b[43mexport_blackbox_csv\u001b[49m\u001b[43m(\u001b[49m\u001b[43mdf_videos\u001b[49m\u001b[43m,\u001b[49m\u001b[43m \u001b[49m\u001b[43mcsv_path\u001b[49m\u001b[43m)\u001b[49m\n\u001b[0;32m      8\u001b[0m \u001b[38;5;66;03m# 2) Export one metadata.xml per batch, creating any missing batch folders\u001b[39;00m\n\u001b[0;32m      9\u001b[0m export_blackbox_xml(df_videos, batches_root)\n",
      "File \u001b[1;32m~\\JupyterLab\\stock-video-metadata\\scripts\\export.py:13\u001b[0m, in \u001b[0;36mexport_blackbox_csv\u001b[1;34m(df, out_csv)\u001b[0m\n\u001b[0;32m      6\u001b[0m \u001b[38;5;28;01mdef\u001b[39;00m \u001b[38;5;21mexport_blackbox_csv\u001b[39m(df: pd\u001b[38;5;241m.\u001b[39mDataFrame, out_csv: Path):\n\u001b[0;32m      7\u001b[0m \u001b[38;5;250m    \u001b[39m\u001b[38;5;124;03m\"\"\"\u001b[39;00m\n\u001b[0;32m      8\u001b[0m \u001b[38;5;124;03m    Export a CSV with exactly the three columns BlackBox Global requires:\u001b[39;00m\n\u001b[0;32m      9\u001b[0m \u001b[38;5;124;03m      - Filename\u001b[39;00m\n\u001b[0;32m     10\u001b[0m \u001b[38;5;124;03m      - Description\u001b[39;00m\n\u001b[0;32m     11\u001b[0m \u001b[38;5;124;03m      - Keywords\u001b[39;00m\n\u001b[0;32m     12\u001b[0m \u001b[38;5;124;03m    \"\"\"\u001b[39;00m\n\u001b[1;32m---> 13\u001b[0m     \u001b[43mdf\u001b[49m\u001b[43m[\u001b[49m\u001b[43m[\u001b[49m\u001b[38;5;124;43m'\u001b[39;49m\u001b[38;5;124;43mFilename\u001b[39;49m\u001b[38;5;124;43m'\u001b[39;49m\u001b[43m,\u001b[49m\u001b[43m \u001b[49m\u001b[38;5;124;43m'\u001b[39;49m\u001b[38;5;124;43mDescription\u001b[39;49m\u001b[38;5;124;43m'\u001b[39;49m\u001b[43m,\u001b[49m\u001b[43m \u001b[49m\u001b[38;5;124;43m'\u001b[39;49m\u001b[38;5;124;43mKeywords\u001b[39;49m\u001b[38;5;124;43m'\u001b[39;49m\u001b[43m]\u001b[49m\u001b[43m]\u001b[49m\u001b[38;5;241m.\u001b[39mto_csv(out_csv, index\u001b[38;5;241m=\u001b[39m\u001b[38;5;28;01mFalse\u001b[39;00m)\n\u001b[0;32m     14\u001b[0m     \u001b[38;5;28mprint\u001b[39m(\u001b[38;5;124mf\u001b[39m\u001b[38;5;124m\"\u001b[39m\u001b[38;5;124m✅ Exported CSV: \u001b[39m\u001b[38;5;132;01m{\u001b[39;00mout_csv\u001b[38;5;132;01m}\u001b[39;00m\u001b[38;5;124m\"\u001b[39m)\n",
      "File \u001b[1;32m~\\AppData\\Local\\Packages\\PythonSoftwareFoundation.Python.3.9_qbz5n2kfra8p0\\LocalCache\\local-packages\\Python39\\site-packages\\pandas\\core\\frame.py:3902\u001b[0m, in \u001b[0;36mDataFrame.__getitem__\u001b[1;34m(self, key)\u001b[0m\n\u001b[0;32m   3900\u001b[0m     \u001b[38;5;28;01mif\u001b[39;00m is_iterator(key):\n\u001b[0;32m   3901\u001b[0m         key \u001b[38;5;241m=\u001b[39m \u001b[38;5;28mlist\u001b[39m(key)\n\u001b[1;32m-> 3902\u001b[0m     indexer \u001b[38;5;241m=\u001b[39m \u001b[38;5;28;43mself\u001b[39;49m\u001b[38;5;241;43m.\u001b[39;49m\u001b[43mcolumns\u001b[49m\u001b[38;5;241;43m.\u001b[39;49m\u001b[43m_get_indexer_strict\u001b[49m\u001b[43m(\u001b[49m\u001b[43mkey\u001b[49m\u001b[43m,\u001b[49m\u001b[43m \u001b[49m\u001b[38;5;124;43m\"\u001b[39;49m\u001b[38;5;124;43mcolumns\u001b[39;49m\u001b[38;5;124;43m\"\u001b[39;49m\u001b[43m)\u001b[49m[\u001b[38;5;241m1\u001b[39m]\n\u001b[0;32m   3904\u001b[0m \u001b[38;5;66;03m# take() does not accept boolean indexers\u001b[39;00m\n\u001b[0;32m   3905\u001b[0m \u001b[38;5;28;01mif\u001b[39;00m \u001b[38;5;28mgetattr\u001b[39m(indexer, \u001b[38;5;124m\"\u001b[39m\u001b[38;5;124mdtype\u001b[39m\u001b[38;5;124m\"\u001b[39m, \u001b[38;5;28;01mNone\u001b[39;00m) \u001b[38;5;241m==\u001b[39m \u001b[38;5;28mbool\u001b[39m:\n",
      "File \u001b[1;32m~\\AppData\\Local\\Packages\\PythonSoftwareFoundation.Python.3.9_qbz5n2kfra8p0\\LocalCache\\local-packages\\Python39\\site-packages\\pandas\\core\\indexes\\base.py:6114\u001b[0m, in \u001b[0;36mIndex._get_indexer_strict\u001b[1;34m(self, key, axis_name)\u001b[0m\n\u001b[0;32m   6111\u001b[0m \u001b[38;5;28;01melse\u001b[39;00m:\n\u001b[0;32m   6112\u001b[0m     keyarr, indexer, new_indexer \u001b[38;5;241m=\u001b[39m \u001b[38;5;28mself\u001b[39m\u001b[38;5;241m.\u001b[39m_reindex_non_unique(keyarr)\n\u001b[1;32m-> 6114\u001b[0m \u001b[38;5;28;43mself\u001b[39;49m\u001b[38;5;241;43m.\u001b[39;49m\u001b[43m_raise_if_missing\u001b[49m\u001b[43m(\u001b[49m\u001b[43mkeyarr\u001b[49m\u001b[43m,\u001b[49m\u001b[43m \u001b[49m\u001b[43mindexer\u001b[49m\u001b[43m,\u001b[49m\u001b[43m \u001b[49m\u001b[43maxis_name\u001b[49m\u001b[43m)\u001b[49m\n\u001b[0;32m   6116\u001b[0m keyarr \u001b[38;5;241m=\u001b[39m \u001b[38;5;28mself\u001b[39m\u001b[38;5;241m.\u001b[39mtake(indexer)\n\u001b[0;32m   6117\u001b[0m \u001b[38;5;28;01mif\u001b[39;00m \u001b[38;5;28misinstance\u001b[39m(key, Index):\n\u001b[0;32m   6118\u001b[0m     \u001b[38;5;66;03m# GH 42790 - Preserve name from an Index\u001b[39;00m\n",
      "File \u001b[1;32m~\\AppData\\Local\\Packages\\PythonSoftwareFoundation.Python.3.9_qbz5n2kfra8p0\\LocalCache\\local-packages\\Python39\\site-packages\\pandas\\core\\indexes\\base.py:6175\u001b[0m, in \u001b[0;36mIndex._raise_if_missing\u001b[1;34m(self, key, indexer, axis_name)\u001b[0m\n\u001b[0;32m   6173\u001b[0m     \u001b[38;5;28;01mif\u001b[39;00m use_interval_msg:\n\u001b[0;32m   6174\u001b[0m         key \u001b[38;5;241m=\u001b[39m \u001b[38;5;28mlist\u001b[39m(key)\n\u001b[1;32m-> 6175\u001b[0m     \u001b[38;5;28;01mraise\u001b[39;00m \u001b[38;5;167;01mKeyError\u001b[39;00m(\u001b[38;5;124mf\u001b[39m\u001b[38;5;124m\"\u001b[39m\u001b[38;5;124mNone of [\u001b[39m\u001b[38;5;132;01m{\u001b[39;00mkey\u001b[38;5;132;01m}\u001b[39;00m\u001b[38;5;124m] are in the [\u001b[39m\u001b[38;5;132;01m{\u001b[39;00maxis_name\u001b[38;5;132;01m}\u001b[39;00m\u001b[38;5;124m]\u001b[39m\u001b[38;5;124m\"\u001b[39m)\n\u001b[0;32m   6177\u001b[0m not_found \u001b[38;5;241m=\u001b[39m \u001b[38;5;28mlist\u001b[39m(ensure_index(key)[missing_mask\u001b[38;5;241m.\u001b[39mnonzero()[\u001b[38;5;241m0\u001b[39m]]\u001b[38;5;241m.\u001b[39munique())\n\u001b[0;32m   6178\u001b[0m \u001b[38;5;28;01mraise\u001b[39;00m \u001b[38;5;167;01mKeyError\u001b[39;00m(\u001b[38;5;124mf\u001b[39m\u001b[38;5;124m\"\u001b[39m\u001b[38;5;132;01m{\u001b[39;00mnot_found\u001b[38;5;132;01m}\u001b[39;00m\u001b[38;5;124m not in index\u001b[39m\u001b[38;5;124m\"\u001b[39m)\n",
      "\u001b[1;31mKeyError\u001b[0m: \"None of [Index(['Filename', 'Description', 'Keywords'], dtype='object')] are in the [columns]\""
     ]
    }
   ],
   "source": [
    "# Cell 5: Export BlackBox‐Ready CSV + XML\n",
    "from scripts.export import export_blackbox_csv, export_blackbox_xml\n",
    "\n",
    "# 1) Export the three‐column CSV\n",
    "csv_path = metadata_dir / \"blackbox_metadata.csv\"\n",
    "export_blackbox_csv(df_videos, csv_path)\n",
    "\n",
    "# 2) Export one metadata.xml per batch, creating any missing batch folders\n",
    "export_blackbox_xml(df_videos, batches_root)"
   ]
  },
  {
   "cell_type": "code",
   "execution_count": 10,
   "metadata": {
    "scrolled": true
   },
   "outputs": [
    {
     "name": "stdout",
     "output_type": "stream",
     "text": [
      "❌ Failed to export CSV: \"None of [Index(['Filename', 'Description', 'Keywords'], dtype='object')] are in the [columns]\"\n",
      "🚨 Failed during XML export: 'batch'\n",
      "💡 Ensure `batches_root` is accessible and batch folders exist or can be created.\n"
     ]
    }
   ],
   "source": [
    "# (Ignore for Modular `script`) Cell 5: Export BlackBox‐Ready CSV + XML (Safe, Cross-Platform)\n",
    "\n",
    "csv_path = metadata_dir / \"blackbox_metadata.csv\"\n",
    "xml_errors = []\n",
    "\n",
    "try:\n",
    "    export_blackbox_csv(df_videos, csv_path)\n",
    "    print(f\"✅ Exported BlackBox CSV:\\n📄 {csv_path}\")\n",
    "except Exception as e:\n",
    "    print(f\"❌ Failed to export CSV: {e}\")\n",
    "\n",
    "try:\n",
    "    # Ensure all XML batch subdirs exist before writing\n",
    "    if not batches_root.exists():\n",
    "        raise FileNotFoundError(f\"Batches root not found: {batches_root}\")\n",
    "    \n",
    "    # Patch export_blackbox_xml to create dirs if needed\n",
    "    from xml.etree import ElementTree as ET\n",
    "    from scripts.export import export_blackbox_xml as original_export_xml\n",
    "\n",
    "    def export_blackbox_xml_safe(df, batches_root):\n",
    "        from collections import defaultdict\n",
    "        from pathlib import Path\n",
    "        import xml.etree.ElementTree as ET\n",
    "\n",
    "        grouped = df.groupby(\"batch\")\n",
    "        for batch, group in grouped:\n",
    "            batch_dir = batches_root / batch\n",
    "            if not batch_dir.exists():\n",
    "                try:\n",
    "                    batch_dir.mkdir(parents=True, exist_ok=True)\n",
    "                    print(f\"📁 Created missing batch directory: {batch_dir}\")\n",
    "                except Exception as e:\n",
    "                    xml_errors.append((batch, str(e)))\n",
    "                    continue\n",
    "            \n",
    "            root = ET.Element(\"videos\")\n",
    "            for _, row in group.iterrows():\n",
    "                video_el = ET.SubElement(root, \"video\")\n",
    "                ET.SubElement(video_el, \"filename\").text = row.get(\"filename\", \"\")\n",
    "                ET.SubElement(video_el, \"description\").text = row.get(\"Description\", \"\")\n",
    "                ET.SubElement(video_el, \"keywords\").text = row.get(\"Keywords\", \"\")\n",
    "            \n",
    "            xml_path = batch_dir / \"metadata.xml\"\n",
    "            try:\n",
    "                tree = ET.ElementTree(root)\n",
    "                tree.write(str(xml_path), encoding=\"utf-8\", xml_declaration=True)\n",
    "                print(f\"✅ Exported XML for {batch}: {xml_path}\")\n",
    "            except Exception as e:\n",
    "                xml_errors.append((batch, str(e)))\n",
    "\n",
    "    # Call patched exporter\n",
    "    export_blackbox_xml_safe(df_videos, batches_root)\n",
    "\n",
    "    if xml_errors:\n",
    "        print(f\"\\n⚠️ XML export completed with {len(xml_errors)} errors:\")\n",
    "        for batch, err in xml_errors:\n",
    "            print(f\" - Batch `{batch}`: {err}\")\n",
    "\n",
    "except Exception as e:\n",
    "    print(f\"🚨 Failed during XML export: {e}\")\n",
    "    print(\"💡 Ensure `batches_root` is accessible and batch folders exist or can be created.\")"
   ]
  },
  {
   "cell_type": "markdown",
   "metadata": {},
   "source": [
    "# Upload or ZIP per batch ()Modular Cell 6)"
   ]
  },
  {
   "cell_type": "code",
   "execution_count": 6,
   "metadata": {
    "scrolled": true
   },
   "outputs": [
    {
     "name": "stdout",
     "output_type": "stream",
     "text": [
      "📦 Created ZIP for manual upload: /private/var/mobile/Containers/Shared/AppGroup/08003265-A677-4358-B939-7E86CE490040/File Provider Storage/Repositories/cda_ASSETS/blackbox-stock-video-metadata/metadata/blackbox_uploads/well_pump.zip\n"
     ]
    }
   ],
   "source": [
    "# Upload or ZIP per batch\n",
    "from upload import upload_batch_or_zip\n",
    "zip_dir = metadata_dir/\"blackbox_uploads\"\n",
    "for batch_name in df_videos['batch_name'].unique():\n",
    "    batch_path = batches_root/batch_name\n",
    "    upload_batch_or_zip(batch_path, zip_dir)"
   ]
  },
  {
   "cell_type": "code",
   "execution_count": 7,
   "metadata": {
    "scrolled": true
   },
   "outputs": [
    {
     "ename": "NameError",
     "evalue": "name 'upload_batch' is not defined",
     "output_type": "error",
     "traceback": [
      "\u001b[0;31m---------------------------------------------------------------------------\u001b[0m",
      "\u001b[0;31mNameError\u001b[0m                                 Traceback (most recent call last)",
      "\u001b[0;32m<ipython-input-7-28ef4b312fb6>\u001b[0m in \u001b[0;36m<module>\u001b[0;34m\u001b[0m\n\u001b[1;32m      1\u001b[0m \u001b[0;31m# (Ignore for modular scripts) Cell 6: Upload All Batches to BlackBox SFTP\u001b[0m\u001b[0;34m\u001b[0m\u001b[0;34m\u001b[0m\u001b[0m\n\u001b[1;32m      2\u001b[0m \u001b[0;32mfor\u001b[0m \u001b[0mbatch_name\u001b[0m \u001b[0;32min\u001b[0m \u001b[0mdf_videos\u001b[0m\u001b[0;34m[\u001b[0m\u001b[0;34m'batch_name'\u001b[0m\u001b[0;34m]\u001b[0m\u001b[0;34m.\u001b[0m\u001b[0munique\u001b[0m\u001b[0;34m(\u001b[0m\u001b[0;34m)\u001b[0m\u001b[0;34m:\u001b[0m\u001b[0;34m\u001b[0m\u001b[0;34m\u001b[0m\u001b[0m\n\u001b[0;32m----> 3\u001b[0;31m     \u001b[0mupload_batch\u001b[0m\u001b[0;34m(\u001b[0m\u001b[0mbatches_root\u001b[0m \u001b[0;34m/\u001b[0m \u001b[0mbatch_name\u001b[0m\u001b[0;34m)\u001b[0m\u001b[0;34m\u001b[0m\u001b[0;34m\u001b[0m\u001b[0m\n\u001b[0m\u001b[1;32m      4\u001b[0m \u001b[0;34m\u001b[0m\u001b[0m\n\u001b[1;32m      5\u001b[0m \u001b[0mprint\u001b[0m\u001b[0;34m(\u001b[0m\u001b[0;34m\"🎉 Upload complete for all batches.\"\u001b[0m\u001b[0;34m)\u001b[0m\u001b[0;34m\u001b[0m\u001b[0;34m\u001b[0m\u001b[0m\n",
      "\u001b[0;31mNameError\u001b[0m: name 'upload_batch' is not defined"
     ]
    }
   ],
   "source": [
    "# (Ignore for modular scripts) Cell 6: Upload All Batches to BlackBox SFTP\n",
    "for batch_name in df_videos['batch_name'].unique():\n",
    "    upload_batch(batches_root / batch_name)\n",
    "\n",
    "print(\"🎉 Upload complete for all batches.\")"
   ]
  }
 ],
 "metadata": {
  "kernelspec": {
   "display_name": "Python 3 (ipykernel)",
   "language": "python",
   "name": "python3"
  },
  "language_info": {
   "codemirror_mode": {
    "name": "ipython",
    "version": 3
   },
   "file_extension": ".py",
   "mimetype": "text/x-python",
   "name": "python",
   "nbconvert_exporter": "python",
   "pygments_lexer": "ipython3",
   "version": "3.9.13"
  },
  "widgets": {
   "application/vnd.jupyter.widget-state+json": {
    "state": {
     "00ec1797fc98458793092f3c3347ca4a": {
      "model_module": "@jupyter-widgets/controls",
      "model_module_version": "2.0.0",
      "model_name": "HTMLModel",
      "state": {
       "layout": "IPY_MODEL_421f9a596696470fbdcdbac9689fc244",
       "style": "IPY_MODEL_b67d1599a05d425c953463e2b4651651",
       "value": " 120/120 [00:00&lt;00:00, 8.58kB/s]"
      }
     },
     "02250243be1042bab9f0cd2e69571670": {
      "model_module": "@jupyter-widgets/controls",
      "model_module_version": "2.0.0",
      "model_name": "HTMLModel",
      "state": {
       "layout": "IPY_MODEL_e455653dfddb476598bb2e9ccf51a163",
       "style": "IPY_MODEL_b9a76630215144eda78efa5db42524fb",
       "value": "special_tokens_map.json: 100%"
      }
     },
     "04d49be54b0143edb99c5638806fb066": {
      "model_module": "@jupyter-widgets/controls",
      "model_module_version": "2.0.0",
      "model_name": "FloatProgressModel",
      "state": {
       "bar_style": "success",
       "layout": "IPY_MODEL_a9c5b02386a54fa082880edd878a68f8",
       "max": 982141993,
       "style": "IPY_MODEL_4e209cdce5c44466ad944dc51182c31c",
       "value": 982141993
      }
     },
     "05881bb791234678bd67bd94276c6c45": {
      "model_module": "@jupyter-widgets/controls",
      "model_module_version": "2.0.0",
      "model_name": "HTMLModel",
      "state": {
       "layout": "IPY_MODEL_34e3b75e2acd481386dd2c173295669f",
       "style": "IPY_MODEL_b1e6b717d0574f3fa1056eae508cc0f0",
       "value": "tokenizer_config.json: 100%"
      }
     },
     "0b8de0d65fd9494c95f09a77d3380066": {
      "model_module": "@jupyter-widgets/controls",
      "model_module_version": "2.0.0",
      "model_name": "FloatProgressModel",
      "state": {
       "bar_style": "success",
       "layout": "IPY_MODEL_df61476edf784557af547830489591c6",
       "max": 456356,
       "style": "IPY_MODEL_3b090c6d77ae46b5a38a148b8a11f8eb",
       "value": 456356
      }
     },
     "0fa0d5e0b33e4a229ca6ba3339656f08": {
      "model_module": "@jupyter-widgets/controls",
      "model_module_version": "2.0.0",
      "model_name": "HTMLModel",
      "state": {
       "layout": "IPY_MODEL_18bc8b5aeb7b41399ae386445bf2bb0d",
       "style": "IPY_MODEL_f211a4fba00747b192dc13121a8eb913",
       "value": " 982M/982M [00:08&lt;00:00, 117MB/s]"
      }
     },
     "18bc8b5aeb7b41399ae386445bf2bb0d": {
      "model_module": "@jupyter-widgets/base",
      "model_module_version": "2.0.0",
      "model_name": "LayoutModel",
      "state": {}
     },
     "1e21471831b44d2fbd7aacea34f49e9e": {
      "model_module": "@jupyter-widgets/base",
      "model_module_version": "2.0.0",
      "model_name": "LayoutModel",
      "state": {}
     },
     "1ee2518ddadb448bba485091a119c65f": {
      "model_module": "@jupyter-widgets/controls",
      "model_module_version": "2.0.0",
      "model_name": "HBoxModel",
      "state": {
       "children": [
        "IPY_MODEL_4e3a7f957f4144b8954a370254cdb7ba",
        "IPY_MODEL_cd20c5652809456aa646050e1bd1abdb",
        "IPY_MODEL_c6eaf9f86f6546b6ad8fd82c611658f8"
       ],
       "layout": "IPY_MODEL_c2b268fe8f1a48288e8b542e25399e3a"
      }
     },
     "23a812d1b8f24f5c87f9df2928ef56ee": {
      "model_module": "@jupyter-widgets/base",
      "model_module_version": "2.0.0",
      "model_name": "LayoutModel",
      "state": {}
     },
     "2467f87d16ea43cc9b887341e5c3a9ff": {
      "model_module": "@jupyter-widgets/controls",
      "model_module_version": "2.0.0",
      "model_name": "HBoxModel",
      "state": {
       "children": [
        "IPY_MODEL_da317b591711488d91fc94ef68c2bb67",
        "IPY_MODEL_4c71c115089d4d839519794db4231d1d",
        "IPY_MODEL_ea81aa9ac3ee47ac976cbf03e3ebda0e"
       ],
       "layout": "IPY_MODEL_cf7deb5e74624387805d9d77f6f9d3e4"
      }
     },
     "31ffbfe6cb044fa6b049ecf42ebc68ab": {
      "model_module": "@jupyter-widgets/controls",
      "model_module_version": "2.0.0",
      "model_name": "HTMLModel",
      "state": {
       "layout": "IPY_MODEL_d69bb0e937124ba7a0c211c505a9d7d5",
       "style": "IPY_MODEL_980feb7a4b58464aaa599102647ce022",
       "value": " 456k/456k [00:00&lt;00:00, 17.2MB/s]"
      }
     },
     "34e3b75e2acd481386dd2c173295669f": {
      "model_module": "@jupyter-widgets/base",
      "model_module_version": "2.0.0",
      "model_name": "LayoutModel",
      "state": {}
     },
     "36dd9eae72f84ecca8d19f5161dd0e6c": {
      "model_module": "@jupyter-widgets/base",
      "model_module_version": "2.0.0",
      "model_name": "LayoutModel",
      "state": {}
     },
     "3826b7b343304dbcba61230e6a76c1df": {
      "model_module": "@jupyter-widgets/base",
      "model_module_version": "2.0.0",
      "model_name": "LayoutModel",
      "state": {}
     },
     "3b090c6d77ae46b5a38a148b8a11f8eb": {
      "model_module": "@jupyter-widgets/controls",
      "model_module_version": "2.0.0",
      "model_name": "ProgressStyleModel",
      "state": {
       "description_width": ""
      }
     },
     "419c1c8325df4e66aa5ca60516e1d4b6": {
      "model_module": "@jupyter-widgets/base",
      "model_module_version": "2.0.0",
      "model_name": "LayoutModel",
      "state": {}
     },
     "421f9a596696470fbdcdbac9689fc244": {
      "model_module": "@jupyter-widgets/base",
      "model_module_version": "2.0.0",
      "model_name": "LayoutModel",
      "state": {}
     },
     "4819e417f9884f058aef7e87d31986bb": {
      "model_module": "@jupyter-widgets/base",
      "model_module_version": "2.0.0",
      "model_name": "LayoutModel",
      "state": {}
     },
     "4c71c115089d4d839519794db4231d1d": {
      "model_module": "@jupyter-widgets/controls",
      "model_module_version": "2.0.0",
      "model_name": "FloatProgressModel",
      "state": {
       "bar_style": "success",
       "layout": "IPY_MODEL_4fa1567bf7124617b3bce2e743c40ba1",
       "max": 1355446,
       "style": "IPY_MODEL_b67b6ca32e014ad0a48e4beef5da493b",
       "value": 1355446
      }
     },
     "4e209cdce5c44466ad944dc51182c31c": {
      "model_module": "@jupyter-widgets/controls",
      "model_module_version": "2.0.0",
      "model_name": "ProgressStyleModel",
      "state": {
       "description_width": ""
      }
     },
     "4e3a7f957f4144b8954a370254cdb7ba": {
      "model_module": "@jupyter-widgets/controls",
      "model_module_version": "2.0.0",
      "model_name": "HTMLModel",
      "state": {
       "layout": "IPY_MODEL_f904a062583f4cb0a30246f927836340",
       "style": "IPY_MODEL_834ee971b9184603ae981796b931803c",
       "value": "vocab.json: 100%"
      }
     },
     "4fa1567bf7124617b3bce2e743c40ba1": {
      "model_module": "@jupyter-widgets/base",
      "model_module_version": "2.0.0",
      "model_name": "LayoutModel",
      "state": {}
     },
     "506167eaa7c64423916ebe2ac2c88f36": {
      "model_module": "@jupyter-widgets/controls",
      "model_module_version": "2.0.0",
      "model_name": "HTMLModel",
      "state": {
       "layout": "IPY_MODEL_419c1c8325df4e66aa5ca60516e1d4b6",
       "style": "IPY_MODEL_7edd8bd4e87b4465bd58b66276134d15",
       "value": " 228/228 [00:00&lt;00:00, 28.2kB/s]"
      }
     },
     "522b901e04904b3c80ffbb4f597cb1da": {
      "model_module": "@jupyter-widgets/controls",
      "model_module_version": "2.0.0",
      "model_name": "HBoxModel",
      "state": {
       "children": [
        "IPY_MODEL_8686a3ea6adb40f9b7d7cf0678776fe2",
        "IPY_MODEL_f033a73e4a7e4858be82df7e77f1f5fb",
        "IPY_MODEL_8afb653a0f6a4efb80874a471060e16e"
       ],
       "layout": "IPY_MODEL_6df0826eefda46378e03dc52d79e036b"
      }
     },
     "52aff724f962440090475741ec2c944d": {
      "model_module": "@jupyter-widgets/controls",
      "model_module_version": "2.0.0",
      "model_name": "ProgressStyleModel",
      "state": {
       "description_width": ""
      }
     },
     "52b04034dbf84cd098150a7ca4127fa5": {
      "model_module": "@jupyter-widgets/base",
      "model_module_version": "2.0.0",
      "model_name": "LayoutModel",
      "state": {}
     },
     "5618940153034744b81f08006882c114": {
      "model_module": "@jupyter-widgets/controls",
      "model_module_version": "2.0.0",
      "model_name": "HTMLStyleModel",
      "state": {
       "description_width": "",
       "font_size": null,
       "text_color": null
      }
     },
     "5f23302cad42449ba6b60e898ea8d77b": {
      "model_module": "@jupyter-widgets/controls",
      "model_module_version": "2.0.0",
      "model_name": "HBoxModel",
      "state": {
       "children": [
        "IPY_MODEL_780af1da8bc7497ab879fccb7121c613",
        "IPY_MODEL_04d49be54b0143edb99c5638806fb066",
        "IPY_MODEL_0fa0d5e0b33e4a229ca6ba3339656f08"
       ],
       "layout": "IPY_MODEL_d4665114d81049cdbac197d60226adbd"
      }
     },
     "65c336be80b7486ebfc30f3e334072ca": {
      "model_module": "@jupyter-widgets/base",
      "model_module_version": "2.0.0",
      "model_name": "LayoutModel",
      "state": {}
     },
     "65cb61b498b44b95948f1b91615c3f99": {
      "model_module": "@jupyter-widgets/base",
      "model_module_version": "2.0.0",
      "model_name": "LayoutModel",
      "state": {}
     },
     "66f56998c25a43fea2b6866e2d52368e": {
      "model_module": "@jupyter-widgets/base",
      "model_module_version": "2.0.0",
      "model_name": "LayoutModel",
      "state": {}
     },
     "6883d7d3c0a9470fa7e9bc131c1cd964": {
      "model_module": "@jupyter-widgets/base",
      "model_module_version": "2.0.0",
      "model_name": "LayoutModel",
      "state": {}
     },
     "6ae82299ddc34884a92bb636181a441f": {
      "model_module": "@jupyter-widgets/base",
      "model_module_version": "2.0.0",
      "model_name": "LayoutModel",
      "state": {}
     },
     "6df0826eefda46378e03dc52d79e036b": {
      "model_module": "@jupyter-widgets/base",
      "model_module_version": "2.0.0",
      "model_name": "LayoutModel",
      "state": {}
     },
     "70c919e6b9704e36acef2f6504dea14c": {
      "model_module": "@jupyter-widgets/base",
      "model_module_version": "2.0.0",
      "model_name": "LayoutModel",
      "state": {}
     },
     "73a9a7a746ec450b94380470347ecded": {
      "model_module": "@jupyter-widgets/controls",
      "model_module_version": "2.0.0",
      "model_name": "FloatProgressModel",
      "state": {
       "bar_style": "success",
       "layout": "IPY_MODEL_4819e417f9884f058aef7e87d31986bb",
       "max": 241,
       "style": "IPY_MODEL_52aff724f962440090475741ec2c944d",
       "value": 241
      }
     },
     "780af1da8bc7497ab879fccb7121c613": {
      "model_module": "@jupyter-widgets/controls",
      "model_module_version": "2.0.0",
      "model_name": "HTMLModel",
      "state": {
       "layout": "IPY_MODEL_70c919e6b9704e36acef2f6504dea14c",
       "style": "IPY_MODEL_89b50a8a49d54761b4cece50947c261a",
       "value": "pytorch_model.bin: 100%"
      }
     },
     "7edd8bd4e87b4465bd58b66276134d15": {
      "model_module": "@jupyter-widgets/controls",
      "model_module_version": "2.0.0",
      "model_name": "HTMLStyleModel",
      "state": {
       "description_width": "",
       "font_size": null,
       "text_color": null
      }
     },
     "834ee971b9184603ae981796b931803c": {
      "model_module": "@jupyter-widgets/controls",
      "model_module_version": "2.0.0",
      "model_name": "HTMLStyleModel",
      "state": {
       "description_width": "",
       "font_size": null,
       "text_color": null
      }
     },
     "84a42181e64a455f8b98d891cb98157e": {
      "model_module": "@jupyter-widgets/controls",
      "model_module_version": "2.0.0",
      "model_name": "FloatProgressModel",
      "state": {
       "bar_style": "success",
       "layout": "IPY_MODEL_a379113bf1c049e2b034fe80b777ee49",
       "max": 228,
       "style": "IPY_MODEL_c064fe40b1494fcc85c56f22015cba14",
       "value": 228
      }
     },
     "8686a3ea6adb40f9b7d7cf0678776fe2": {
      "model_module": "@jupyter-widgets/controls",
      "model_module_version": "2.0.0",
      "model_name": "HTMLModel",
      "state": {
       "layout": "IPY_MODEL_36dd9eae72f84ecca8d19f5161dd0e6c",
       "style": "IPY_MODEL_9673baf7286545e4bc2ad29533dd7a2f",
       "value": "config.json: 100%"
      }
     },
     "89b50a8a49d54761b4cece50947c261a": {
      "model_module": "@jupyter-widgets/controls",
      "model_module_version": "2.0.0",
      "model_name": "HTMLStyleModel",
      "state": {
       "description_width": "",
       "font_size": null,
       "text_color": null
      }
     },
     "8afb653a0f6a4efb80874a471060e16e": {
      "model_module": "@jupyter-widgets/controls",
      "model_module_version": "2.0.0",
      "model_name": "HTMLModel",
      "state": {
       "layout": "IPY_MODEL_fcdd3a75ceb14100b1fb5af5b04af06a",
       "style": "IPY_MODEL_5618940153034744b81f08006882c114",
       "value": " 4.61k/4.61k [00:00&lt;00:00, 132kB/s]"
      }
     },
     "941f61654cc94219baf029217f8bf9e4": {
      "model_module": "@jupyter-widgets/controls",
      "model_module_version": "2.0.0",
      "model_name": "HTMLStyleModel",
      "state": {
       "description_width": "",
       "font_size": null,
       "text_color": null
      }
     },
     "9673baf7286545e4bc2ad29533dd7a2f": {
      "model_module": "@jupyter-widgets/controls",
      "model_module_version": "2.0.0",
      "model_name": "HTMLStyleModel",
      "state": {
       "description_width": "",
       "font_size": null,
       "text_color": null
      }
     },
     "980feb7a4b58464aaa599102647ce022": {
      "model_module": "@jupyter-widgets/controls",
      "model_module_version": "2.0.0",
      "model_name": "HTMLStyleModel",
      "state": {
       "description_width": "",
       "font_size": null,
       "text_color": null
      }
     },
     "9f7986ac17c34f7090afe41fcf7f3a64": {
      "model_module": "@jupyter-widgets/controls",
      "model_module_version": "2.0.0",
      "model_name": "ProgressStyleModel",
      "state": {
       "description_width": ""
      }
     },
     "9f8112c16ea444959948a0582aea3f51": {
      "model_module": "@jupyter-widgets/base",
      "model_module_version": "2.0.0",
      "model_name": "LayoutModel",
      "state": {}
     },
     "a0aae661de4d44399c4bd83ca7455a67": {
      "model_module": "@jupyter-widgets/controls",
      "model_module_version": "2.0.0",
      "model_name": "HBoxModel",
      "state": {
       "children": [
        "IPY_MODEL_a195f81c864a4270bf39175092801947",
        "IPY_MODEL_84a42181e64a455f8b98d891cb98157e",
        "IPY_MODEL_506167eaa7c64423916ebe2ac2c88f36"
       ],
       "layout": "IPY_MODEL_ff95d70f5a97417cb32d877aab4341c9"
      }
     },
     "a195f81c864a4270bf39175092801947": {
      "model_module": "@jupyter-widgets/controls",
      "model_module_version": "2.0.0",
      "model_name": "HTMLModel",
      "state": {
       "layout": "IPY_MODEL_6ae82299ddc34884a92bb636181a441f",
       "style": "IPY_MODEL_ccefab1be657436895deb3ff89995d63",
       "value": "preprocessor_config.json: 100%"
      }
     },
     "a3119c6ad0c54ee3899e7407de9dd7e6": {
      "model_module": "@jupyter-widgets/controls",
      "model_module_version": "2.0.0",
      "model_name": "FloatProgressModel",
      "state": {
       "bar_style": "success",
       "layout": "IPY_MODEL_66f56998c25a43fea2b6866e2d52368e",
       "max": 120,
       "style": "IPY_MODEL_af77944b855542269ed9ece59a9713b0",
       "value": 120
      }
     },
     "a379113bf1c049e2b034fe80b777ee49": {
      "model_module": "@jupyter-widgets/base",
      "model_module_version": "2.0.0",
      "model_name": "LayoutModel",
      "state": {}
     },
     "a6d9c6fe3a6f44599ba38ab6eaec09f5": {
      "model_module": "@jupyter-widgets/controls",
      "model_module_version": "2.0.0",
      "model_name": "HTMLModel",
      "state": {
       "layout": "IPY_MODEL_6883d7d3c0a9470fa7e9bc131c1cd964",
       "style": "IPY_MODEL_de7d9897fd2d4b5b8a4b0c13ba0f753a",
       "value": " 241/241 [00:00&lt;00:00, 20.2kB/s]"
      }
     },
     "a78deea98fbf47e4878775d3b8f4fed2": {
      "model_module": "@jupyter-widgets/controls",
      "model_module_version": "2.0.0",
      "model_name": "HBoxModel",
      "state": {
       "children": [
        "IPY_MODEL_02250243be1042bab9f0cd2e69571670",
        "IPY_MODEL_a3119c6ad0c54ee3899e7407de9dd7e6",
        "IPY_MODEL_00ec1797fc98458793092f3c3347ca4a"
       ],
       "layout": "IPY_MODEL_3826b7b343304dbcba61230e6a76c1df"
      }
     },
     "a9c5b02386a54fa082880edd878a68f8": {
      "model_module": "@jupyter-widgets/base",
      "model_module_version": "2.0.0",
      "model_name": "LayoutModel",
      "state": {}
     },
     "adfddd1d61da4df488aa6cf856772f5f": {
      "model_module": "@jupyter-widgets/controls",
      "model_module_version": "2.0.0",
      "model_name": "HBoxModel",
      "state": {
       "children": [
        "IPY_MODEL_e7a16fb335484fbf93cf4881d53ca271",
        "IPY_MODEL_0b8de0d65fd9494c95f09a77d3380066",
        "IPY_MODEL_31ffbfe6cb044fa6b049ecf42ebc68ab"
       ],
       "layout": "IPY_MODEL_65cb61b498b44b95948f1b91615c3f99"
      }
     },
     "ae9da9663da2479e83905dedb7a32c6c": {
      "model_module": "@jupyter-widgets/base",
      "model_module_version": "2.0.0",
      "model_name": "LayoutModel",
      "state": {}
     },
     "af77944b855542269ed9ece59a9713b0": {
      "model_module": "@jupyter-widgets/controls",
      "model_module_version": "2.0.0",
      "model_name": "ProgressStyleModel",
      "state": {
       "description_width": ""
      }
     },
     "b1738936fdc140168edcd374b7230ae7": {
      "model_module": "@jupyter-widgets/controls",
      "model_module_version": "2.0.0",
      "model_name": "ProgressStyleModel",
      "state": {
       "description_width": ""
      }
     },
     "b1e6b717d0574f3fa1056eae508cc0f0": {
      "model_module": "@jupyter-widgets/controls",
      "model_module_version": "2.0.0",
      "model_name": "HTMLStyleModel",
      "state": {
       "description_width": "",
       "font_size": null,
       "text_color": null
      }
     },
     "b67b6ca32e014ad0a48e4beef5da493b": {
      "model_module": "@jupyter-widgets/controls",
      "model_module_version": "2.0.0",
      "model_name": "ProgressStyleModel",
      "state": {
       "description_width": ""
      }
     },
     "b67d1599a05d425c953463e2b4651651": {
      "model_module": "@jupyter-widgets/controls",
      "model_module_version": "2.0.0",
      "model_name": "HTMLStyleModel",
      "state": {
       "description_width": "",
       "font_size": null,
       "text_color": null
      }
     },
     "b6c9df14c4ff4ff7bccc5ae1c5cdc98d": {
      "model_module": "@jupyter-widgets/controls",
      "model_module_version": "2.0.0",
      "model_name": "HTMLStyleModel",
      "state": {
       "description_width": "",
       "font_size": null,
       "text_color": null
      }
     },
     "b9a76630215144eda78efa5db42524fb": {
      "model_module": "@jupyter-widgets/controls",
      "model_module_version": "2.0.0",
      "model_name": "HTMLStyleModel",
      "state": {
       "description_width": "",
       "font_size": null,
       "text_color": null
      }
     },
     "c064fe40b1494fcc85c56f22015cba14": {
      "model_module": "@jupyter-widgets/controls",
      "model_module_version": "2.0.0",
      "model_name": "ProgressStyleModel",
      "state": {
       "description_width": ""
      }
     },
     "c2b268fe8f1a48288e8b542e25399e3a": {
      "model_module": "@jupyter-widgets/base",
      "model_module_version": "2.0.0",
      "model_name": "LayoutModel",
      "state": {}
     },
     "c6eaf9f86f6546b6ad8fd82c611658f8": {
      "model_module": "@jupyter-widgets/controls",
      "model_module_version": "2.0.0",
      "model_name": "HTMLModel",
      "state": {
       "layout": "IPY_MODEL_ae9da9663da2479e83905dedb7a32c6c",
       "style": "IPY_MODEL_b6c9df14c4ff4ff7bccc5ae1c5cdc98d",
       "value": " 798k/798k [00:00&lt;00:00, 24.6MB/s]"
      }
     },
     "ccefab1be657436895deb3ff89995d63": {
      "model_module": "@jupyter-widgets/controls",
      "model_module_version": "2.0.0",
      "model_name": "HTMLStyleModel",
      "state": {
       "description_width": "",
       "font_size": null,
       "text_color": null
      }
     },
     "cd20c5652809456aa646050e1bd1abdb": {
      "model_module": "@jupyter-widgets/controls",
      "model_module_version": "2.0.0",
      "model_name": "FloatProgressModel",
      "state": {
       "bar_style": "success",
       "layout": "IPY_MODEL_65c336be80b7486ebfc30f3e334072ca",
       "max": 798156,
       "style": "IPY_MODEL_9f7986ac17c34f7090afe41fcf7f3a64",
       "value": 798156
      }
     },
     "cf7deb5e74624387805d9d77f6f9d3e4": {
      "model_module": "@jupyter-widgets/base",
      "model_module_version": "2.0.0",
      "model_name": "LayoutModel",
      "state": {}
     },
     "d4665114d81049cdbac197d60226adbd": {
      "model_module": "@jupyter-widgets/base",
      "model_module_version": "2.0.0",
      "model_name": "LayoutModel",
      "state": {}
     },
     "d69bb0e937124ba7a0c211c505a9d7d5": {
      "model_module": "@jupyter-widgets/base",
      "model_module_version": "2.0.0",
      "model_name": "LayoutModel",
      "state": {}
     },
     "d8effd99de7447b8992da74cd250be0d": {
      "model_module": "@jupyter-widgets/controls",
      "model_module_version": "2.0.0",
      "model_name": "HTMLStyleModel",
      "state": {
       "description_width": "",
       "font_size": null,
       "text_color": null
      }
     },
     "da317b591711488d91fc94ef68c2bb67": {
      "model_module": "@jupyter-widgets/controls",
      "model_module_version": "2.0.0",
      "model_name": "HTMLModel",
      "state": {
       "layout": "IPY_MODEL_e5e8387c2f0343f78849eeed7716e3ff",
       "style": "IPY_MODEL_941f61654cc94219baf029217f8bf9e4",
       "value": "tokenizer.json: 100%"
      }
     },
     "de7d9897fd2d4b5b8a4b0c13ba0f753a": {
      "model_module": "@jupyter-widgets/controls",
      "model_module_version": "2.0.0",
      "model_name": "HTMLStyleModel",
      "state": {
       "description_width": "",
       "font_size": null,
       "text_color": null
      }
     },
     "df61476edf784557af547830489591c6": {
      "model_module": "@jupyter-widgets/base",
      "model_module_version": "2.0.0",
      "model_name": "LayoutModel",
      "state": {}
     },
     "e455653dfddb476598bb2e9ccf51a163": {
      "model_module": "@jupyter-widgets/base",
      "model_module_version": "2.0.0",
      "model_name": "LayoutModel",
      "state": {}
     },
     "e5e8387c2f0343f78849eeed7716e3ff": {
      "model_module": "@jupyter-widgets/base",
      "model_module_version": "2.0.0",
      "model_name": "LayoutModel",
      "state": {}
     },
     "e7a16fb335484fbf93cf4881d53ca271": {
      "model_module": "@jupyter-widgets/controls",
      "model_module_version": "2.0.0",
      "model_name": "HTMLModel",
      "state": {
       "layout": "IPY_MODEL_9f8112c16ea444959948a0582aea3f51",
       "style": "IPY_MODEL_f35ad9cf35b74d38972ee815531f8ad8",
       "value": "merges.txt: 100%"
      }
     },
     "e975c90bef4b49848e051eaf1fbd27f3": {
      "model_module": "@jupyter-widgets/controls",
      "model_module_version": "2.0.0",
      "model_name": "HBoxModel",
      "state": {
       "children": [
        "IPY_MODEL_05881bb791234678bd67bd94276c6c45",
        "IPY_MODEL_73a9a7a746ec450b94380470347ecded",
        "IPY_MODEL_a6d9c6fe3a6f44599ba38ab6eaec09f5"
       ],
       "layout": "IPY_MODEL_1e21471831b44d2fbd7aacea34f49e9e"
      }
     },
     "ea81aa9ac3ee47ac976cbf03e3ebda0e": {
      "model_module": "@jupyter-widgets/controls",
      "model_module_version": "2.0.0",
      "model_name": "HTMLModel",
      "state": {
       "layout": "IPY_MODEL_23a812d1b8f24f5c87f9df2928ef56ee",
       "style": "IPY_MODEL_d8effd99de7447b8992da74cd250be0d",
       "value": " 1.36M/1.36M [00:00&lt;00:00, 18.4MB/s]"
      }
     },
     "f033a73e4a7e4858be82df7e77f1f5fb": {
      "model_module": "@jupyter-widgets/controls",
      "model_module_version": "2.0.0",
      "model_name": "FloatProgressModel",
      "state": {
       "bar_style": "success",
       "layout": "IPY_MODEL_52b04034dbf84cd098150a7ca4127fa5",
       "max": 4609,
       "style": "IPY_MODEL_b1738936fdc140168edcd374b7230ae7",
       "value": 4609
      }
     },
     "f211a4fba00747b192dc13121a8eb913": {
      "model_module": "@jupyter-widgets/controls",
      "model_module_version": "2.0.0",
      "model_name": "HTMLStyleModel",
      "state": {
       "description_width": "",
       "font_size": null,
       "text_color": null
      }
     },
     "f35ad9cf35b74d38972ee815531f8ad8": {
      "model_module": "@jupyter-widgets/controls",
      "model_module_version": "2.0.0",
      "model_name": "HTMLStyleModel",
      "state": {
       "description_width": "",
       "font_size": null,
       "text_color": null
      }
     },
     "f904a062583f4cb0a30246f927836340": {
      "model_module": "@jupyter-widgets/base",
      "model_module_version": "2.0.0",
      "model_name": "LayoutModel",
      "state": {}
     },
     "fcdd3a75ceb14100b1fb5af5b04af06a": {
      "model_module": "@jupyter-widgets/base",
      "model_module_version": "2.0.0",
      "model_name": "LayoutModel",
      "state": {}
     },
     "ff95d70f5a97417cb32d877aab4341c9": {
      "model_module": "@jupyter-widgets/base",
      "model_module_version": "2.0.0",
      "model_name": "LayoutModel",
      "state": {}
     }
    },
    "version_major": 2,
    "version_minor": 0
   }
  }
 },
 "nbformat": 4,
 "nbformat_minor": 4
}

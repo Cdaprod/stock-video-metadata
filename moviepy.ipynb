{
 "cells": [
  {
   "metadata": {
    "trusted": true
   },
   "cell_type": "code",
   "source": "import moviepy as mp\n\nhelp(mp)",
   "execution_count": 6,
   "outputs": [
    {
     "output_type": "stream",
     "text": "Help on package moviepy:\n\nNAME\n    moviepy\n\nPACKAGE CONTENTS\n    Clip\n    audio (package)\n    config\n    decorators\n    editor\n    tools\n    utils\n    version\n    video (package)\n\nVERSION\n    2.0.0.dev2\n\nFILE\n    /var/mobile/Containers/Data/Application/7EDC4B92-10B9-48D7-ADEA-ABBF5DF8C7B7/Documents/site-packages/moviepy/__init__.py\n\n\n",
     "name": "stdout"
    }
   ]
  },
  {
   "metadata": {
    "trusted": true
   },
   "cell_type": "code",
   "source": "from moviepy.editor import \n    VideoFileClip\n    concatenate_videoclips\n    vfx # video fx\n    afx # audio fx\n    CompositeAudioClip # \n\nclip1 = VideoFileClip(\"\").subclip(0, 10)\nclip2 = VideoFileClip(\"\").subclip(10, 20)\nclip3 = VideoFileClip(\"\").subclip(20, 30)\nclip4 = VideoFileClip(\"\").subclip(20, 30).fx(vfx.colorx, 1.5)\\\n    .fx(vfx.lum_contrast, 0, 50, 128)\n\ncombined = concatenate_videoclips([clip1, clip2, clip3, ,clip4])\ncombined.write_videogile(\"sequence-clips.mp4\")\n\nVideoFileClip().fx(vfx.fadein, 1).fx(vfx.fadeout, 1)\n",
   "execution_count": 1,
   "outputs": [
    {
     "output_type": "error",
     "ename": "SyntaxError",
     "evalue": "invalid syntax (<ipython-input-1-0585f82afcb7>, line 1)",
     "traceback": [
      "\u001b[0;36m  File \u001b[0;32m\"<ipython-input-1-0585f82afcb7>\"\u001b[0;36m, line \u001b[0;32m1\u001b[0m\n\u001b[0;31m    from moviepy.editor import\u001b[0m\n\u001b[0m                               ^\u001b[0m\n\u001b[0;31mSyntaxError\u001b[0m\u001b[0;31m:\u001b[0m invalid syntax\n"
     ]
    }
   ]
  },
  {
   "metadata": {
    "trusted": true
   },
   "cell_type": "code",
   "source": "",
   "execution_count": null,
   "outputs": []
  }
 ],
 "metadata": {
  "kernelspec": {
   "name": "python3",
   "display_name": "Python 3",
   "language": "python"
  },
  "language_info": {
   "name": "python",
   "version": "3.10.4",
   "mimetype": "text/x-python",
   "codemirror_mode": {
    "name": "ipython",
    "version": 3
   },
   "pygments_lexer": "ipython3",
   "nbconvert_exporter": "python",
   "file_extension": ".py"
  }
 },
 "nbformat": 4,
 "nbformat_minor": 2
}